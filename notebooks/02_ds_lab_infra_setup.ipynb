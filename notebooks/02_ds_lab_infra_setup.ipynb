{
  "cells": [
    {
      "cell_type": "code",
      "execution_count": 2,
      "id": "0",
      "metadata": {
        "id": "0"
      },
      "outputs": [],
      "source": [
        "REPO_NAME=\"big-data-lab\"\n",
        "USER_NAME=\"kornisch\" # TODO: replace with your GitHub username"
      ]
    },
    {
      "cell_type": "code",
      "execution_count": 3,
      "id": "1",
      "metadata": {
        "id": "1",
        "outputId": "af94f534-d137-4e7b-cf75-8d105b1762c7",
        "colab": {
          "base_uri": "https://localhost:8080/"
        }
      },
      "outputs": [
        {
          "output_type": "stream",
          "name": "stdout",
          "text": [
            "env: REPO_NAME=big-data-lab\n",
            "env: USER_NAME=kornisch\n"
          ]
        }
      ],
      "source": [
        "%env REPO_NAME=$REPO_NAME\n",
        "%env USER_NAME=$USER_NAME"
      ]
    },
    {
      "cell_type": "code",
      "execution_count": 4,
      "id": "2",
      "metadata": {
        "id": "2",
        "outputId": "54c2cf9d-8169-4f7d-c50b-8eedf18477c4",
        "colab": {
          "base_uri": "https://localhost:8080/"
        }
      },
      "outputs": [
        {
          "output_type": "stream",
          "name": "stdout",
          "text": [
            "Cloning into 'big-data-lab'...\n",
            "remote: Enumerating objects: 128, done.\u001b[K\n",
            "remote: Counting objects: 100% (56/56), done.\u001b[K\n",
            "remote: Compressing objects: 100% (42/42), done.\u001b[K\n",
            "remote: Total 128 (delta 38), reused 14 (delta 14), pack-reused 72 (from 3)\u001b[K\n",
            "Receiving objects: 100% (128/128), 461.93 KiB | 23.10 MiB/s, done.\n",
            "Resolving deltas: 100% (54/54), done.\n"
          ]
        },
        {
          "output_type": "execute_result",
          "data": {
            "text/plain": []
          },
          "metadata": {},
          "execution_count": 4
        }
      ],
      "source": [
        "%%shell\n",
        "rm -rf $REPO_NAME\n",
        "git clone https://github.com/$USER_NAME/$REPO_NAME.git\n",
        "cd $REPO_NAME"
      ]
    },
    {
      "cell_type": "code",
      "execution_count": 5,
      "id": "3",
      "metadata": {
        "id": "3",
        "outputId": "5714cbec-0b2f-49e6-ea1f-3b60c3b6927a",
        "colab": {
          "base_uri": "https://localhost:8080/"
        }
      },
      "outputs": [
        {
          "output_type": "stream",
          "name": "stdout",
          "text": [
            "env: TERRAFORM_VERSION=1.9.8\n",
            "env: PATH=/content/bin:/opt/bin:/usr/local/nvidia/bin:/usr/local/cuda/bin:/usr/local/sbin:/usr/local/bin:/usr/sbin:/usr/bin:/sbin:/bin:/tools/node/bin:/tools/google-cloud-sdk/bin\n",
            "--2025-01-18 12:22:55--  https://releases.hashicorp.com/terraform/1.9.8/terraform_1.9.8_linux_amd64.zip\n",
            "Resolving releases.hashicorp.com (releases.hashicorp.com)... 3.171.85.128, 3.171.85.65, 3.171.85.107, ...\n",
            "Connecting to releases.hashicorp.com (releases.hashicorp.com)|3.171.85.128|:443... connected.\n",
            "HTTP request sent, awaiting response... 200 OK\n",
            "Length: 27041434 (26M) [application/zip]\n",
            "Saving to: ‘terraform_1.9.8_linux_amd64.zip’\n",
            "\n",
            "terraform_1.9.8_lin 100%[===================>]  25.79M  --.-KB/s    in 0.1s    \n",
            "\n",
            "2025-01-18 12:22:55 (228 MB/s) - ‘terraform_1.9.8_linux_amd64.zip’ saved [27041434/27041434]\n",
            "\n",
            "Archive:  terraform_1.9.8_linux_amd64.zip\n",
            "  inflating: bin/LICENSE.txt         \n",
            "  inflating: bin/terraform           \n",
            "Terraform v1.9.8\n",
            "on linux_amd64\n",
            "\n",
            "Your version of Terraform is out of date! The latest version\n",
            "is 1.10.4. You can update by downloading from https://www.terraform.io/downloads.html\n"
          ]
        }
      ],
      "source": [
        "%run $REPO_NAME/notebooks/lib/00_terraform_setup.ipynb"
      ]
    },
    {
      "cell_type": "code",
      "execution_count": 6,
      "id": "4",
      "metadata": {
        "id": "4",
        "outputId": "ff61e565-3daa-4cb9-8e33-d78a1be738e7",
        "colab": {
          "base_uri": "https://localhost:8080/"
        }
      },
      "outputs": [
        {
          "output_type": "stream",
          "name": "stdout",
          "text": [
            "env: TF_VAR_ds_semester=2024l\n",
            "env: TF_VAR_user_id=7042\n",
            "env: TF_VAR_billing_account=01754E-828141-E8C644\n",
            "env: TF_VAR_region=europe-west1\n",
            "env: TF_VAR_project_name=ds-2024l-7042\n",
            "env: GIT_BRANCH=colab-dev\n"
          ]
        }
      ],
      "source": [
        "%run $REPO_NAME/notebooks/conf/00_env_variables.ipynb"
      ]
    },
    {
      "cell_type": "code",
      "execution_count": 7,
      "id": "5",
      "metadata": {
        "id": "5"
      },
      "outputs": [],
      "source": [
        "# Authenticate to the Google account\n",
        "from google.colab import auth\n",
        "auth.authenticate_user()"
      ]
    },
    {
      "cell_type": "markdown",
      "id": "6",
      "metadata": {
        "id": "6"
      },
      "source": [
        "### Set the remote bucket for storing Terraform state\n"
      ]
    },
    {
      "cell_type": "code",
      "execution_count": 8,
      "id": "7",
      "metadata": {
        "id": "7",
        "outputId": "e6cb0c69-27f1-41d0-f183-0ef10f8d85e4",
        "colab": {
          "base_uri": "https://localhost:8080/",
          "height": 35
        }
      },
      "outputs": [
        {
          "output_type": "execute_result",
          "data": {
            "text/plain": [
              "'7042'"
            ],
            "application/vnd.google.colaboratory.intrinsic+json": {
              "type": "string"
            }
          },
          "metadata": {},
          "execution_count": 8
        }
      ],
      "source": [
        "import os\n",
        "TF_VAR_user_id = os.getenv(\"TF_VAR_user_id\")\n",
        "TF_VAR_user_id"
      ]
    },
    {
      "cell_type": "code",
      "execution_count": 9,
      "id": "8",
      "metadata": {
        "id": "8",
        "outputId": "bcdae135-c6e3-494e-9f1c-8f4d3ccf480b",
        "colab": {
          "base_uri": "https://localhost:8080/"
        }
      },
      "outputs": [
        {
          "output_type": "stream",
          "name": "stdout",
          "text": [
            "Komenda zakończona sukcesem CompletedProcess(args='cd big-data-lab/infra && terraform init -backend-config=bucket=ds-2024l-7042-state', returncode=0)\n"
          ]
        }
      ],
      "source": [
        "import subprocess\n",
        "\n",
        "command = f\"cd {REPO_NAME}/infra && terraform init -backend-config=bucket=ds-2024l-{TF_VAR_user_id}-state\"\n",
        "\n",
        "result = subprocess.run(command, shell=True, check=True)\n",
        "print(\"Komenda zakończona sukcesem\", result)"
      ]
    },
    {
      "cell_type": "markdown",
      "id": "9",
      "metadata": {
        "id": "9"
      },
      "source": [
        "### Provision the infrastructure"
      ]
    },
    {
      "cell_type": "code",
      "execution_count": 11,
      "id": "10",
      "metadata": {
        "id": "10",
        "outputId": "27adabe0-b855-4f9a-e08d-5fe33607fa09",
        "colab": {
          "base_uri": "https://localhost:8080/"
        }
      },
      "outputs": [
        {
          "output_type": "stream",
          "name": "stdout",
          "text": [
            "Acquiring state lock. This may take a few moments...\n",
            "\u001b[0m\u001b[1mmodule.vpc.module.vpc.module.vpc.google_compute_network.network: Refreshing state... [id=projects/ds-2024l-7042/global/networks/main-vpc]\u001b[0m\n",
            "\u001b[0m\u001b[1mmodule.vpc.module.vpc.module.subnets.google_compute_subnetwork.subnetwork[\"europe-west1/dataproc-01\"]: Refreshing state... [id=projects/ds-2024l-7042/regions/europe-west1/subnetworks/dataproc-01]\u001b[0m\n",
            "\u001b[0m\u001b[1mmodule.vpc.google_compute_firewall.fw-allow-ingress-from-iap: Refreshing state... [id=projects/ds-2024l-7042/global/firewalls/fw-allow-ingress-iap]\u001b[0m\n",
            "\u001b[0m\u001b[1mmodule.vpc.google_compute_firewall.default-internal-allow-all: Refreshing state... [id=projects/ds-2024l-7042/global/firewalls/default-internal-allow-all]\u001b[0m\n",
            "\u001b[0m\u001b[1mmodule.vpc.module.cloud-router.google_compute_router.router: Refreshing state... [id=projects/ds-2024l-7042/regions/europe-west1/routers/nat-router]\u001b[0m\n",
            "\u001b[0m\u001b[1mmodule.vpc.module.vpc.module.routes.google_compute_route.route[\"egress-internet\"]: Refreshing state... [id=projects/ds-2024l-7042/global/routes/egress-internet]\u001b[0m\n",
            "\u001b[0m\u001b[1mmodule.vpc.module.cloud-router.google_compute_router_nat.nats[\"nat-gateway\"]: Refreshing state... [id=ds-2024l-7042/europe-west1/nat-router/nat-gateway]\u001b[0m\n",
            "\u001b[0m\u001b[1mmodule.dataproc.google_project_service.dataproc: Refreshing state... [id=ds-2024l-7042/dataproc.googleapis.com]\u001b[0m\n",
            "\u001b[0m\u001b[1mmodule.dataproc.google_service_account.default: Refreshing state... [id=projects/ds-2024l-7042/serviceAccounts/ds-service-account@ds-2024l-7042.iam.gserviceaccount.com]\u001b[0m\n",
            "\u001b[0m\u001b[1mmodule.dataproc.google_project_iam_member.dataproc-service-account[\"roles/dataproc.worker\"]: Refreshing state... [id=ds-2024l-7042/roles/dataproc.worker/serviceAccount:ds-service-account@ds-2024l-7042.iam.gserviceaccount.com]\u001b[0m\n",
            "\u001b[0m\u001b[1mmodule.dataproc.google_project_iam_member.dataproc-service-account[\"roles/storage.admin\"]: Refreshing state... [id=ds-2024l-7042/roles/storage.admin/serviceAccount:ds-service-account@ds-2024l-7042.iam.gserviceaccount.com]\u001b[0m\n",
            "\n",
            "Terraform used the selected providers to generate the following execution plan. Resource actions are indicated with the following symbols:\n",
            "  \u001b[32m+\u001b[0m create\u001b[0m\n",
            "\n",
            "Terraform will perform the following actions:\n",
            "\n",
            "\u001b[1m  # module.dataproc.google_dataproc_cluster.dataproc-cluster\u001b[0m will be created\n",
            "\u001b[0m  \u001b[32m+\u001b[0m\u001b[0m resource \"google_dataproc_cluster\" \"dataproc-cluster\" {\n",
            "      \u001b[32m+\u001b[0m\u001b[0m effective_labels              = (known after apply)\n",
            "      \u001b[32m+\u001b[0m\u001b[0m graceful_decommission_timeout = \"0s\"\n",
            "      \u001b[32m+\u001b[0m\u001b[0m id                            = (known after apply)\n",
            "      \u001b[32m+\u001b[0m\u001b[0m name                          = \"ds-cluster\"\n",
            "      \u001b[32m+\u001b[0m\u001b[0m project                       = \"ds-2024l-7042\"\n",
            "      \u001b[32m+\u001b[0m\u001b[0m region                        = \"europe-west1\"\n",
            "      \u001b[32m+\u001b[0m\u001b[0m terraform_labels              = (known after apply)\n",
            "\n",
            "      \u001b[32m+\u001b[0m\u001b[0m cluster_config {\n",
            "          \u001b[32m+\u001b[0m\u001b[0m bucket      = (known after apply)\n",
            "          \u001b[32m+\u001b[0m\u001b[0m temp_bucket = (known after apply)\n",
            "\n",
            "          \u001b[32m+\u001b[0m\u001b[0m auxiliary_node_groups (known after apply)\n",
            "\n",
            "          \u001b[32m+\u001b[0m\u001b[0m dataproc_metric_config (known after apply)\n",
            "\n",
            "          \u001b[32m+\u001b[0m\u001b[0m endpoint_config {\n",
            "              \u001b[32m+\u001b[0m\u001b[0m enable_http_port_access = true\n",
            "              \u001b[32m+\u001b[0m\u001b[0m http_ports              = (known after apply)\n",
            "            }\n",
            "\n",
            "          \u001b[32m+\u001b[0m\u001b[0m gce_cluster_config {\n",
            "              \u001b[32m+\u001b[0m\u001b[0m internal_ip_only       = true\n",
            "              \u001b[32m+\u001b[0m\u001b[0m metadata               = {\n",
            "                  \u001b[32m+\u001b[0m\u001b[0m \"PIP_PACKAGES\" = \"pandas<2 mlflow==2.18.0 google-cloud-storage==2.18.2\"\n",
            "                  \u001b[32m+\u001b[0m\u001b[0m \"vmDnsSetting\" = \"GlobalDefault\"\n",
            "                }\n",
            "              \u001b[32m+\u001b[0m\u001b[0m network                = (known after apply)\n",
            "              \u001b[32m+\u001b[0m\u001b[0m service_account        = \"ds-service-account@ds-2024l-7042.iam.gserviceaccount.com\"\n",
            "              \u001b[32m+\u001b[0m\u001b[0m service_account_scopes = [\n",
            "                  \u001b[32m+\u001b[0m\u001b[0m \"https://www.googleapis.com/auth/cloud-platform\",\n",
            "                ]\n",
            "              \u001b[32m+\u001b[0m\u001b[0m subnetwork             = \"projects/ds-2024l-7042/regions/europe-west1/subnetworks/dataproc-01\"\n",
            "              \u001b[32m+\u001b[0m\u001b[0m zone                   = (known after apply)\n",
            "\n",
            "              \u001b[32m+\u001b[0m\u001b[0m node_group_affinity (known after apply)\n",
            "\n",
            "              \u001b[32m+\u001b[0m\u001b[0m reservation_affinity (known after apply)\n",
            "\n",
            "              \u001b[32m+\u001b[0m\u001b[0m shielded_instance_config (known after apply)\n",
            "            }\n",
            "\n",
            "          \u001b[32m+\u001b[0m\u001b[0m initialization_action {\n",
            "              \u001b[32m+\u001b[0m\u001b[0m script      = \"gs://goog-dataproc-initialization-actions-europe-west1/python/pip-install.sh\"\n",
            "              \u001b[32m+\u001b[0m\u001b[0m timeout_sec = 600\n",
            "            }\n",
            "\n",
            "          \u001b[32m+\u001b[0m\u001b[0m lifecycle_config {\n",
            "              \u001b[32m+\u001b[0m\u001b[0m idle_delete_ttl = \"21600s\"\n",
            "              \u001b[32m+\u001b[0m\u001b[0m idle_start_time = (known after apply)\n",
            "            }\n",
            "\n",
            "          \u001b[32m+\u001b[0m\u001b[0m master_config {\n",
            "              \u001b[32m+\u001b[0m\u001b[0m image_uri        = (known after apply)\n",
            "              \u001b[32m+\u001b[0m\u001b[0m instance_names   = (known after apply)\n",
            "              \u001b[32m+\u001b[0m\u001b[0m machine_type     = \"e2-standard-2\"\n",
            "              \u001b[32m+\u001b[0m\u001b[0m min_cpu_platform = (known after apply)\n",
            "              \u001b[32m+\u001b[0m\u001b[0m num_instances    = 1\n",
            "\n",
            "              \u001b[32m+\u001b[0m\u001b[0m disk_config {\n",
            "                  \u001b[32m+\u001b[0m\u001b[0m boot_disk_size_gb = 100\n",
            "                  \u001b[32m+\u001b[0m\u001b[0m boot_disk_type    = \"pd-standard\"\n",
            "                  \u001b[32m+\u001b[0m\u001b[0m num_local_ssds    = (known after apply)\n",
            "                }\n",
            "            }\n",
            "\n",
            "          \u001b[32m+\u001b[0m\u001b[0m preemptible_worker_config (known after apply)\n",
            "\n",
            "          \u001b[32m+\u001b[0m\u001b[0m software_config {\n",
            "              \u001b[32m+\u001b[0m\u001b[0m image_version       = \"2.2-ubuntu22\"\n",
            "              \u001b[32m+\u001b[0m\u001b[0m optional_components = [\n",
            "                  \u001b[32m+\u001b[0m\u001b[0m \"JUPYTER\",\n",
            "                ]\n",
            "              \u001b[32m+\u001b[0m\u001b[0m override_properties = {\n",
            "                  \u001b[32m+\u001b[0m\u001b[0m \"dataproc:jupyter.notebook.gcs.dir\" = \"gs://ds-2024l-7042-notebook-data/data\"\n",
            "                }\n",
            "              \u001b[32m+\u001b[0m\u001b[0m properties          = (known after apply)\n",
            "            }\n",
            "\n",
            "          \u001b[32m+\u001b[0m\u001b[0m worker_config {\n",
            "              \u001b[32m+\u001b[0m\u001b[0m image_uri         = (known after apply)\n",
            "              \u001b[32m+\u001b[0m\u001b[0m instance_names    = (known after apply)\n",
            "              \u001b[32m+\u001b[0m\u001b[0m machine_type      = \"e2-standard-2\"\n",
            "              \u001b[32m+\u001b[0m\u001b[0m min_cpu_platform  = (known after apply)\n",
            "              \u001b[32m+\u001b[0m\u001b[0m min_num_instances = (known after apply)\n",
            "              \u001b[32m+\u001b[0m\u001b[0m num_instances     = 2\n",
            "\n",
            "              \u001b[32m+\u001b[0m\u001b[0m disk_config {\n",
            "                  \u001b[32m+\u001b[0m\u001b[0m boot_disk_size_gb = 100\n",
            "                  \u001b[32m+\u001b[0m\u001b[0m boot_disk_type    = \"pd-standard\"\n",
            "                  \u001b[32m+\u001b[0m\u001b[0m num_local_ssds    = (known after apply)\n",
            "                }\n",
            "            }\n",
            "        }\n",
            "\n",
            "      \u001b[32m+\u001b[0m\u001b[0m virtual_cluster_config (known after apply)\n",
            "    }\n",
            "\n",
            "\u001b[1mPlan:\u001b[0m 1 to add, 0 to change, 0 to destroy.\n",
            "\u001b[0m\u001b[0m\u001b[1mmodule.dataproc.google_dataproc_cluster.dataproc-cluster: Creating...\u001b[0m\u001b[0m\n",
            "\u001b[0m\u001b[1mmodule.dataproc.google_dataproc_cluster.dataproc-cluster: Still creating... [10s elapsed]\u001b[0m\u001b[0m\n",
            "\u001b[0m\u001b[1mmodule.dataproc.google_dataproc_cluster.dataproc-cluster: Still creating... [20s elapsed]\u001b[0m\u001b[0m\n",
            "\u001b[0m\u001b[1mmodule.dataproc.google_dataproc_cluster.dataproc-cluster: Still creating... [30s elapsed]\u001b[0m\u001b[0m\n",
            "\u001b[0m\u001b[1mmodule.dataproc.google_dataproc_cluster.dataproc-cluster: Still creating... [40s elapsed]\u001b[0m\u001b[0m\n",
            "\u001b[0m\u001b[1mmodule.dataproc.google_dataproc_cluster.dataproc-cluster: Still creating... [50s elapsed]\u001b[0m\u001b[0m\n",
            "\u001b[0m\u001b[1mmodule.dataproc.google_dataproc_cluster.dataproc-cluster: Still creating... [1m0s elapsed]\u001b[0m\u001b[0m\n",
            "\u001b[0m\u001b[1mmodule.dataproc.google_dataproc_cluster.dataproc-cluster: Still creating... [1m10s elapsed]\u001b[0m\u001b[0m\n",
            "\u001b[0m\u001b[1mmodule.dataproc.google_dataproc_cluster.dataproc-cluster: Still creating... [1m20s elapsed]\u001b[0m\u001b[0m\n",
            "\u001b[0m\u001b[1mmodule.dataproc.google_dataproc_cluster.dataproc-cluster: Still creating... [1m30s elapsed]\u001b[0m\u001b[0m\n",
            "\u001b[0m\u001b[1mmodule.dataproc.google_dataproc_cluster.dataproc-cluster: Still creating... [1m40s elapsed]\u001b[0m\u001b[0m\n",
            "\u001b[0m\u001b[1mmodule.dataproc.google_dataproc_cluster.dataproc-cluster: Still creating... [1m50s elapsed]\u001b[0m\u001b[0m\n",
            "\u001b[0m\u001b[1mmodule.dataproc.google_dataproc_cluster.dataproc-cluster: Still creating... [2m0s elapsed]\u001b[0m\u001b[0m\n",
            "\u001b[0m\u001b[1mmodule.dataproc.google_dataproc_cluster.dataproc-cluster: Still creating... [2m10s elapsed]\u001b[0m\u001b[0m\n",
            "\u001b[0m\u001b[1mmodule.dataproc.google_dataproc_cluster.dataproc-cluster: Still creating... [2m20s elapsed]\u001b[0m\u001b[0m\n",
            "\u001b[0m\u001b[1mmodule.dataproc.google_dataproc_cluster.dataproc-cluster: Still creating... [2m30s elapsed]\u001b[0m\u001b[0m\n",
            "\u001b[0m\u001b[1mmodule.dataproc.google_dataproc_cluster.dataproc-cluster: Still creating... [2m40s elapsed]\u001b[0m\u001b[0m\n",
            "\u001b[0m\u001b[1mmodule.dataproc.google_dataproc_cluster.dataproc-cluster: Still creating... [2m50s elapsed]\u001b[0m\u001b[0m\n",
            "\u001b[0m\u001b[1mmodule.dataproc.google_dataproc_cluster.dataproc-cluster: Still creating... [3m0s elapsed]\u001b[0m\u001b[0m\n",
            "\u001b[0m\u001b[1mmodule.dataproc.google_dataproc_cluster.dataproc-cluster: Still creating... [3m10s elapsed]\u001b[0m\u001b[0m\n",
            "\u001b[0m\u001b[1mmodule.dataproc.google_dataproc_cluster.dataproc-cluster: Still creating... [3m20s elapsed]\u001b[0m\u001b[0m\n",
            "\u001b[0m\u001b[1mmodule.dataproc.google_dataproc_cluster.dataproc-cluster: Still creating... [3m30s elapsed]\u001b[0m\u001b[0m\n",
            "\u001b[0m\u001b[1mmodule.dataproc.google_dataproc_cluster.dataproc-cluster: Still creating... [3m40s elapsed]\u001b[0m\u001b[0m\n",
            "\u001b[0m\u001b[1mmodule.dataproc.google_dataproc_cluster.dataproc-cluster: Still creating... [3m50s elapsed]\u001b[0m\u001b[0m\n",
            "\u001b[0m\u001b[1mmodule.dataproc.google_dataproc_cluster.dataproc-cluster: Still creating... [4m0s elapsed]\u001b[0m\u001b[0m\n",
            "\u001b[0m\u001b[1mmodule.dataproc.google_dataproc_cluster.dataproc-cluster: Still creating... [4m10s elapsed]\u001b[0m\u001b[0m\n",
            "\u001b[0m\u001b[1mmodule.dataproc.google_dataproc_cluster.dataproc-cluster: Still creating... [4m20s elapsed]\u001b[0m\u001b[0m\n",
            "\u001b[0m\u001b[1mmodule.dataproc.google_dataproc_cluster.dataproc-cluster: Still creating... [4m30s elapsed]\u001b[0m\u001b[0m\n",
            "\u001b[0m\u001b[1mmodule.dataproc.google_dataproc_cluster.dataproc-cluster: Still creating... [4m40s elapsed]\u001b[0m\u001b[0m\n",
            "\u001b[0m\u001b[1mmodule.dataproc.google_dataproc_cluster.dataproc-cluster: Still creating... [4m50s elapsed]\u001b[0m\u001b[0m\n",
            "\u001b[0m\u001b[1mmodule.dataproc.google_dataproc_cluster.dataproc-cluster: Still creating... [5m0s elapsed]\u001b[0m\u001b[0m\n",
            "\u001b[0m\u001b[1mmodule.dataproc.google_dataproc_cluster.dataproc-cluster: Still creating... [5m10s elapsed]\u001b[0m\u001b[0m\n",
            "\u001b[0m\u001b[1mmodule.dataproc.google_dataproc_cluster.dataproc-cluster: Still creating... [5m20s elapsed]\u001b[0m\u001b[0m\n",
            "\u001b[0m\u001b[1mmodule.dataproc.google_dataproc_cluster.dataproc-cluster: Still creating... [5m30s elapsed]\u001b[0m\u001b[0m\n",
            "\u001b[0m\u001b[1mmodule.dataproc.google_dataproc_cluster.dataproc-cluster: Still creating... [5m40s elapsed]\u001b[0m\u001b[0m\n",
            "\u001b[0m\u001b[1mmodule.dataproc.google_dataproc_cluster.dataproc-cluster: Still creating... [5m50s elapsed]\u001b[0m\u001b[0m\n",
            "\u001b[0m\u001b[1mmodule.dataproc.google_dataproc_cluster.dataproc-cluster: Still creating... [6m0s elapsed]\u001b[0m\u001b[0m\n",
            "\u001b[0m\u001b[1mmodule.dataproc.google_dataproc_cluster.dataproc-cluster: Still creating... [6m10s elapsed]\u001b[0m\u001b[0m\n",
            "\u001b[0m\u001b[1mmodule.dataproc.google_dataproc_cluster.dataproc-cluster: Still creating... [6m20s elapsed]\u001b[0m\u001b[0m\n",
            "\u001b[0m\u001b[1mmodule.dataproc.google_dataproc_cluster.dataproc-cluster: Still creating... [6m30s elapsed]\u001b[0m\u001b[0m\n",
            "\u001b[0m\u001b[1mmodule.dataproc.google_dataproc_cluster.dataproc-cluster: Still creating... [6m40s elapsed]\u001b[0m\u001b[0m\n",
            "\u001b[0m\u001b[1mmodule.dataproc.google_dataproc_cluster.dataproc-cluster: Creation complete after 6m48s [id=projects/ds-2024l-7042/regions/europe-west1/clusters/ds-cluster]\u001b[0m\n",
            "\u001b[0m\u001b[1m\u001b[32m\n",
            "Apply complete! Resources: 1 added, 0 changed, 0 destroyed.\n",
            "\u001b[0m"
          ]
        },
        {
          "output_type": "execute_result",
          "data": {
            "text/plain": []
          },
          "metadata": {},
          "execution_count": 11
        }
      ],
      "source": [
        "%%shell\n",
        "cd $REPO_NAME/infra\n",
        "terraform apply -auto-approve"
      ]
    },
    {
      "cell_type": "markdown",
      "id": "11",
      "metadata": {
        "id": "11"
      },
      "source": [
        "### Destroy the infrastructure\n",
        "After you are done with the lab, you can destroy the infrastructure by running the cell below:"
      ]
    },
    {
      "cell_type": "code",
      "execution_count": null,
      "id": "12",
      "metadata": {
        "id": "12"
      },
      "outputs": [],
      "source": [
        "%%shell\n",
        "cd $REPO_NAME/infra\n",
        "terraform destroy -auto-approve"
      ]
    }
  ],
  "metadata": {
    "kernelspec": {
      "display_name": "Python 3",
      "language": "python",
      "name": "python3"
    },
    "language_info": {
      "codemirror_mode": {
        "name": "ipython",
        "version": 2
      },
      "file_extension": ".py",
      "mimetype": "text/x-python",
      "name": "python",
      "nbconvert_exporter": "python",
      "pygments_lexer": "ipython2"
    },
    "colab": {
      "provenance": []
    }
  },
  "nbformat": 4,
  "nbformat_minor": 5
}