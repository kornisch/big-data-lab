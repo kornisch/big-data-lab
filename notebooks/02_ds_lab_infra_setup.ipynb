{
  "cells": [
    {
      "cell_type": "code",
      "execution_count": 1,
      "id": "0",
      "metadata": {
        "id": "0"
      },
      "outputs": [],
      "source": [
        "REPO_NAME=\"big-data-lab\"\n",
        "USER_NAME=\"kornisch\" # TODO: replace with your GitHub username"
      ]
    },
    {
      "cell_type": "code",
      "execution_count": 2,
      "id": "1",
      "metadata": {
        "id": "1",
        "outputId": "ac11ac29-7645-4d84-cdae-65a9bdf45abf",
        "colab": {
          "base_uri": "https://localhost:8080/"
        }
      },
      "outputs": [
        {
          "output_type": "stream",
          "name": "stdout",
          "text": [
            "env: REPO_NAME=big-data-lab\n",
            "env: USER_NAME=kornisch\n"
          ]
        }
      ],
      "source": [
        "%env REPO_NAME=$REPO_NAME\n",
        "%env USER_NAME=$USER_NAME"
      ]
    },
    {
      "cell_type": "code",
      "execution_count": 3,
      "id": "2",
      "metadata": {
        "id": "2",
        "outputId": "110bba10-d2b1-43c0-a3f5-da44bff377f0",
        "colab": {
          "base_uri": "https://localhost:8080/"
        }
      },
      "outputs": [
        {
          "output_type": "stream",
          "name": "stdout",
          "text": [
            "Cloning into 'big-data-lab'...\n",
            "remote: Enumerating objects: 124, done.\u001b[K\n",
            "remote: Counting objects: 100% (52/52), done.\u001b[K\n",
            "remote: Compressing objects: 100% (38/38), done.\u001b[K\n",
            "remote: Total 124 (delta 36), reused 14 (delta 14), pack-reused 72 (from 3)\u001b[K\n",
            "Receiving objects: 100% (124/124), 455.15 KiB | 8.13 MiB/s, done.\n",
            "Resolving deltas: 100% (52/52), done.\n"
          ]
        },
        {
          "output_type": "execute_result",
          "data": {
            "text/plain": []
          },
          "metadata": {},
          "execution_count": 3
        }
      ],
      "source": [
        "%%shell\n",
        "rm -rf $REPO_NAME\n",
        "git clone https://github.com/$USER_NAME/$REPO_NAME.git\n",
        "cd $REPO_NAME"
      ]
    },
    {
      "cell_type": "code",
      "execution_count": 4,
      "id": "3",
      "metadata": {
        "id": "3",
        "outputId": "3770dd3b-00fa-426c-e378-bb416c911a29",
        "colab": {
          "base_uri": "https://localhost:8080/"
        }
      },
      "outputs": [
        {
          "output_type": "stream",
          "name": "stdout",
          "text": [
            "env: TERRAFORM_VERSION=1.9.8\n",
            "env: PATH=/content/bin:/opt/bin:/usr/local/nvidia/bin:/usr/local/cuda/bin:/usr/local/sbin:/usr/local/bin:/usr/sbin:/usr/bin:/sbin:/bin:/tools/node/bin:/tools/google-cloud-sdk/bin\n",
            "--2024-12-22 15:38:15--  https://releases.hashicorp.com/terraform/1.9.8/terraform_1.9.8_linux_amd64.zip\n",
            "Resolving releases.hashicorp.com (releases.hashicorp.com)... 18.160.60.122, 18.160.60.2, 18.160.60.78, ...\n",
            "Connecting to releases.hashicorp.com (releases.hashicorp.com)|18.160.60.122|:443... connected.\n",
            "HTTP request sent, awaiting response... 200 OK\n",
            "Length: 27041434 (26M) [application/zip]\n",
            "Saving to: ‘terraform_1.9.8_linux_amd64.zip’\n",
            "\n",
            "terraform_1.9.8_lin 100%[===================>]  25.79M   163MB/s    in 0.2s    \n",
            "\n",
            "2024-12-22 15:38:15 (163 MB/s) - ‘terraform_1.9.8_linux_amd64.zip’ saved [27041434/27041434]\n",
            "\n",
            "Archive:  terraform_1.9.8_linux_amd64.zip\n",
            "  inflating: bin/LICENSE.txt         \n",
            "  inflating: bin/terraform           \n",
            "Terraform v1.9.8\n",
            "on linux_amd64\n",
            "\n",
            "Your version of Terraform is out of date! The latest version\n",
            "is 1.10.2. You can update by downloading from https://www.terraform.io/downloads.html\n"
          ]
        }
      ],
      "source": [
        "%run $REPO_NAME/notebooks/lib/00_terraform_setup.ipynb"
      ]
    },
    {
      "cell_type": "code",
      "execution_count": 5,
      "id": "4",
      "metadata": {
        "id": "4",
        "outputId": "b654a6d1-b0ad-40a8-9d06-f605cc50d282",
        "colab": {
          "base_uri": "https://localhost:8080/"
        }
      },
      "outputs": [
        {
          "output_type": "stream",
          "name": "stdout",
          "text": [
            "env: TF_VAR_ds_semester=2024l\n",
            "env: TF_VAR_user_id=7042\n",
            "env: TF_VAR_billing_account=01754E-828141-E8C644\n",
            "env: TF_VAR_region=europe-west1\n",
            "env: TF_VAR_project_name=ds-2024l-7042\n",
            "env: GIT_BRANCH=colab-dev\n"
          ]
        }
      ],
      "source": [
        "%run $REPO_NAME/notebooks/conf/00_env_variables.ipynb"
      ]
    },
    {
      "cell_type": "code",
      "execution_count": 6,
      "id": "5",
      "metadata": {
        "id": "5"
      },
      "outputs": [],
      "source": [
        "# Authenticate to the Google account\n",
        "from google.colab import auth\n",
        "auth.authenticate_user()"
      ]
    },
    {
      "cell_type": "markdown",
      "id": "6",
      "metadata": {
        "id": "6"
      },
      "source": [
        "### Set the remote bucket for storing Terraform state\n"
      ]
    },
    {
      "cell_type": "code",
      "execution_count": 9,
      "id": "7",
      "metadata": {
        "id": "7",
        "outputId": "129dffd8-a0e0-4590-e562-24673072dfd0",
        "colab": {
          "base_uri": "https://localhost:8080/",
          "height": 35
        }
      },
      "outputs": [
        {
          "output_type": "execute_result",
          "data": {
            "text/plain": [
              "'7042'"
            ],
            "application/vnd.google.colaboratory.intrinsic+json": {
              "type": "string"
            }
          },
          "metadata": {},
          "execution_count": 9
        }
      ],
      "source": [
        "import os\n",
        "TF_VAR_user_id = os.getenv(\"TF_VAR_user_id\")\n",
        "TF_VAR_user_id"
      ]
    },
    {
      "cell_type": "code",
      "execution_count": 10,
      "id": "8",
      "metadata": {
        "id": "8",
        "outputId": "9ec2bae9-2c88-41dd-85c7-cf20c119c559",
        "colab": {
          "base_uri": "https://localhost:8080/"
        }
      },
      "outputs": [
        {
          "output_type": "stream",
          "name": "stdout",
          "text": [
            "Komenda zakończona sukcesem CompletedProcess(args='cd big-data-lab/infra && terraform init -backend-config=bucket=ds-2024l-7042-state', returncode=0)\n"
          ]
        }
      ],
      "source": [
        "import subprocess\n",
        "\n",
        "command = f\"cd {REPO_NAME}/infra && terraform init -backend-config=bucket=ds-2024l-{TF_VAR_user_id}-state\"\n",
        "\n",
        "result = subprocess.run(command, shell=True, check=True)\n",
        "print(\"Komenda zakończona sukcesem\", result)"
      ]
    },
    {
      "cell_type": "markdown",
      "id": "9",
      "metadata": {
        "id": "9"
      },
      "source": [
        "### Provision the infrastructure"
      ]
    },
    {
      "cell_type": "code",
      "execution_count": null,
      "id": "10",
      "metadata": {
        "id": "10"
      },
      "outputs": [],
      "source": [
        "%%shell\n",
        "cd $REPO_NAME/infra\n",
        "terraform apply -auto-approve"
      ]
    },
    {
      "cell_type": "markdown",
      "id": "11",
      "metadata": {
        "id": "11"
      },
      "source": [
        "### Destroy the infrastructure\n",
        "After you are done with the lab, you can destroy the infrastructure by running the cell below:"
      ]
    },
    {
      "cell_type": "code",
      "execution_count": 11,
      "id": "12",
      "metadata": {
        "id": "12",
        "outputId": "7774bb09-738b-49c5-c7af-57658fb63cc1",
        "colab": {
          "base_uri": "https://localhost:8080/"
        }
      },
      "outputs": [
        {
          "output_type": "stream",
          "name": "stdout",
          "text": [
            "Acquiring state lock. This may take a few moments...\n",
            "\u001b[0m\u001b[1mmodule.vpc.module.vpc.module.vpc.google_compute_network.network: Refreshing state... [id=projects/ds-2024l-7042/global/networks/main-vpc]\u001b[0m\n",
            "\u001b[0m\u001b[1mmodule.vpc.google_compute_firewall.fw-allow-ingress-from-iap: Refreshing state... [id=projects/ds-2024l-7042/global/firewalls/fw-allow-ingress-iap]\u001b[0m\n",
            "\u001b[0m\u001b[1mmodule.vpc.google_compute_firewall.default-internal-allow-all: Refreshing state... [id=projects/ds-2024l-7042/global/firewalls/default-internal-allow-all]\u001b[0m\n",
            "\u001b[0m\u001b[1mmodule.vpc.module.vpc.module.subnets.google_compute_subnetwork.subnetwork[\"europe-west1/dataproc-01\"]: Refreshing state... [id=projects/ds-2024l-7042/regions/europe-west1/subnetworks/dataproc-01]\u001b[0m\n",
            "\u001b[0m\u001b[1mmodule.vpc.module.cloud-router.google_compute_router.router: Refreshing state... [id=projects/ds-2024l-7042/regions/europe-west1/routers/nat-router]\u001b[0m\n",
            "\u001b[0m\u001b[1mmodule.vpc.module.cloud-router.google_compute_router_nat.nats[\"nat-gateway\"]: Refreshing state... [id=ds-2024l-7042/europe-west1/nat-router/nat-gateway]\u001b[0m\n",
            "\u001b[0m\u001b[1mmodule.vpc.module.vpc.module.routes.google_compute_route.route[\"egress-internet\"]: Refreshing state... [id=projects/ds-2024l-7042/global/routes/egress-internet]\u001b[0m\n",
            "\u001b[0m\u001b[1mmodule.dataproc.google_project_service.dataproc: Refreshing state... [id=ds-2024l-7042/dataproc.googleapis.com]\u001b[0m\n",
            "\u001b[0m\u001b[1mmodule.dataproc.google_service_account.default: Refreshing state... [id=projects/ds-2024l-7042/serviceAccounts/ds-service-account@ds-2024l-7042.iam.gserviceaccount.com]\u001b[0m\n",
            "\u001b[0m\u001b[1mmodule.dataproc.google_project_iam_member.dataproc-service-account[\"roles/dataproc.worker\"]: Refreshing state... [id=ds-2024l-7042/roles/dataproc.worker/serviceAccount:ds-service-account@ds-2024l-7042.iam.gserviceaccount.com]\u001b[0m\n",
            "\u001b[0m\u001b[1mmodule.dataproc.google_project_iam_member.dataproc-service-account[\"roles/storage.admin\"]: Refreshing state... [id=ds-2024l-7042/roles/storage.admin/serviceAccount:ds-service-account@ds-2024l-7042.iam.gserviceaccount.com]\u001b[0m\n",
            "\u001b[0m\u001b[1mmodule.dataproc.google_dataproc_cluster.dataproc-cluster: Refreshing state... [id=projects/ds-2024l-7042/regions/europe-west1/clusters/ds-cluster]\u001b[0m\n",
            "\n",
            "Terraform used the selected providers to generate the following execution plan. Resource actions are indicated with the following symbols:\n",
            "  \u001b[31m-\u001b[0m destroy\u001b[0m\n",
            "\n",
            "Terraform will perform the following actions:\n",
            "\n",
            "\u001b[1m  # module.dataproc.google_dataproc_cluster.dataproc-cluster\u001b[0m will be \u001b[1m\u001b[31mdestroyed\u001b[0m\n",
            "\u001b[0m  \u001b[31m-\u001b[0m\u001b[0m resource \"google_dataproc_cluster\" \"dataproc-cluster\" {\n",
            "      \u001b[31m-\u001b[0m\u001b[0m effective_labels              = {\n",
            "          \u001b[31m-\u001b[0m\u001b[0m \"goog-dataproc-autozone\"     = \"enabled\"\n",
            "          \u001b[31m-\u001b[0m\u001b[0m \"goog-dataproc-cluster-name\" = \"ds-cluster\"\n",
            "          \u001b[31m-\u001b[0m\u001b[0m \"goog-dataproc-cluster-uuid\" = \"7b097b91-5354-4364-8349-22c953b7bebb\"\n",
            "          \u001b[31m-\u001b[0m\u001b[0m \"goog-dataproc-location\"     = \"europe-west1\"\n",
            "        } \u001b[90m-> null\u001b[0m\u001b[0m\n",
            "      \u001b[31m-\u001b[0m\u001b[0m graceful_decommission_timeout = \"0s\" \u001b[90m-> null\u001b[0m\u001b[0m\n",
            "      \u001b[31m-\u001b[0m\u001b[0m id                            = \"projects/ds-2024l-7042/regions/europe-west1/clusters/ds-cluster\" \u001b[90m-> null\u001b[0m\u001b[0m\n",
            "      \u001b[31m-\u001b[0m\u001b[0m labels                        = {} \u001b[90m-> null\u001b[0m\u001b[0m\n",
            "      \u001b[31m-\u001b[0m\u001b[0m name                          = \"ds-cluster\" \u001b[90m-> null\u001b[0m\u001b[0m\n",
            "      \u001b[31m-\u001b[0m\u001b[0m project                       = \"ds-2024l-7042\" \u001b[90m-> null\u001b[0m\u001b[0m\n",
            "      \u001b[31m-\u001b[0m\u001b[0m region                        = \"europe-west1\" \u001b[90m-> null\u001b[0m\u001b[0m\n",
            "      \u001b[31m-\u001b[0m\u001b[0m terraform_labels              = {} \u001b[90m-> null\u001b[0m\u001b[0m\n",
            "\n",
            "      \u001b[31m-\u001b[0m\u001b[0m cluster_config {\n",
            "          \u001b[31m-\u001b[0m\u001b[0m bucket         = \"dataproc-staging-europe-west1-197372356121-nqn0va17\" \u001b[90m-> null\u001b[0m\u001b[0m\n",
            "          \u001b[31m-\u001b[0m\u001b[0m temp_bucket    = \"dataproc-temp-europe-west1-197372356121-hogia3zn\" \u001b[90m-> null\u001b[0m\u001b[0m\n",
            "            \u001b[90m# (1 unchanged attribute hidden)\u001b[0m\u001b[0m\n",
            "\n",
            "          \u001b[31m-\u001b[0m\u001b[0m endpoint_config {\n",
            "              \u001b[31m-\u001b[0m\u001b[0m enable_http_port_access = true \u001b[90m-> null\u001b[0m\u001b[0m\n",
            "              \u001b[31m-\u001b[0m\u001b[0m http_ports              = {\n",
            "                  \u001b[31m-\u001b[0m\u001b[0m \"HDFS NameNode\"             = \"https://4jdpw34v4nd3nghzoa2pwxqdh4-dot-europe-west1.dataproc.googleusercontent.com/hdfs/dfshealth.html\"\n",
            "                  \u001b[31m-\u001b[0m\u001b[0m \"Jupyter\"                   = \"https://4jdpw34v4nd3nghzoa2pwxqdh4-dot-europe-west1.dataproc.googleusercontent.com/gateway/default/jupyter/\"\n",
            "                  \u001b[31m-\u001b[0m\u001b[0m \"JupyterLab\"                = \"https://4jdpw34v4nd3nghzoa2pwxqdh4-dot-europe-west1.dataproc.googleusercontent.com/gateway/default/jupyter/lab/\"\n",
            "                  \u001b[31m-\u001b[0m\u001b[0m \"MapReduce Job History\"     = \"https://4jdpw34v4nd3nghzoa2pwxqdh4-dot-europe-west1.dataproc.googleusercontent.com/jobhistory/\"\n",
            "                  \u001b[31m-\u001b[0m\u001b[0m \"Spark History Server\"      = \"https://4jdpw34v4nd3nghzoa2pwxqdh4-dot-europe-west1.dataproc.googleusercontent.com/sparkhistory/\"\n",
            "                  \u001b[31m-\u001b[0m\u001b[0m \"Tez\"                       = \"https://4jdpw34v4nd3nghzoa2pwxqdh4-dot-europe-west1.dataproc.googleusercontent.com/apphistory/tez-ui/\"\n",
            "                  \u001b[31m-\u001b[0m\u001b[0m \"YARN Application Timeline\" = \"https://4jdpw34v4nd3nghzoa2pwxqdh4-dot-europe-west1.dataproc.googleusercontent.com/apphistory/\"\n",
            "                  \u001b[31m-\u001b[0m\u001b[0m \"YARN ResourceManager\"      = \"https://4jdpw34v4nd3nghzoa2pwxqdh4-dot-europe-west1.dataproc.googleusercontent.com/yarn/\"\n",
            "                } \u001b[90m-> null\u001b[0m\u001b[0m\n",
            "            }\n",
            "\n",
            "          \u001b[31m-\u001b[0m\u001b[0m gce_cluster_config {\n",
            "              \u001b[31m-\u001b[0m\u001b[0m internal_ip_only       = true \u001b[90m-> null\u001b[0m\u001b[0m\n",
            "              \u001b[31m-\u001b[0m\u001b[0m metadata               = {\n",
            "                  \u001b[31m-\u001b[0m\u001b[0m \"PIP_PACKAGES\" = \"pandas<2 mlflow==2.18.0 google-cloud-storage==2.18.2\"\n",
            "                  \u001b[31m-\u001b[0m\u001b[0m \"vmDnsSetting\" = \"GlobalDefault\"\n",
            "                } \u001b[90m-> null\u001b[0m\u001b[0m\n",
            "              \u001b[31m-\u001b[0m\u001b[0m service_account        = \"ds-service-account@ds-2024l-7042.iam.gserviceaccount.com\" \u001b[90m-> null\u001b[0m\u001b[0m\n",
            "              \u001b[31m-\u001b[0m\u001b[0m service_account_scopes = [\n",
            "                  \u001b[31m-\u001b[0m\u001b[0m \"https://www.googleapis.com/auth/cloud-platform\",\n",
            "                  \u001b[31m-\u001b[0m\u001b[0m \"https://www.googleapis.com/auth/cloud.useraccounts.readonly\",\n",
            "                  \u001b[31m-\u001b[0m\u001b[0m \"https://www.googleapis.com/auth/devstorage.read_write\",\n",
            "                  \u001b[31m-\u001b[0m\u001b[0m \"https://www.googleapis.com/auth/logging.write\",\n",
            "                ] \u001b[90m-> null\u001b[0m\u001b[0m\n",
            "              \u001b[31m-\u001b[0m\u001b[0m subnetwork             = \"https://www.googleapis.com/compute/v1/projects/ds-2024l-7042/regions/europe-west1/subnetworks/dataproc-01\" \u001b[90m-> null\u001b[0m\u001b[0m\n",
            "              \u001b[31m-\u001b[0m\u001b[0m tags                   = [] \u001b[90m-> null\u001b[0m\u001b[0m\n",
            "              \u001b[31m-\u001b[0m\u001b[0m zone                   = \"europe-west1-d\" \u001b[90m-> null\u001b[0m\u001b[0m\n",
            "                \u001b[90m# (1 unchanged attribute hidden)\u001b[0m\u001b[0m\n",
            "\n",
            "              \u001b[31m-\u001b[0m\u001b[0m shielded_instance_config {\n",
            "                  \u001b[31m-\u001b[0m\u001b[0m enable_integrity_monitoring = true \u001b[90m-> null\u001b[0m\u001b[0m\n",
            "                  \u001b[31m-\u001b[0m\u001b[0m enable_secure_boot          = true \u001b[90m-> null\u001b[0m\u001b[0m\n",
            "                  \u001b[31m-\u001b[0m\u001b[0m enable_vtpm                 = true \u001b[90m-> null\u001b[0m\u001b[0m\n",
            "                }\n",
            "            }\n",
            "\n",
            "          \u001b[31m-\u001b[0m\u001b[0m initialization_action {\n",
            "              \u001b[31m-\u001b[0m\u001b[0m script      = \"gs://goog-dataproc-initialization-actions-europe-west1/python/pip-install.sh\" \u001b[90m-> null\u001b[0m\u001b[0m\n",
            "              \u001b[31m-\u001b[0m\u001b[0m timeout_sec = 600 \u001b[90m-> null\u001b[0m\u001b[0m\n",
            "            }\n",
            "\n",
            "          \u001b[31m-\u001b[0m\u001b[0m lifecycle_config {\n",
            "              \u001b[31m-\u001b[0m\u001b[0m idle_delete_ttl  = \"21600s\" \u001b[90m-> null\u001b[0m\u001b[0m\n",
            "                \u001b[90m# (2 unchanged attributes hidden)\u001b[0m\u001b[0m\n",
            "            }\n",
            "\n",
            "          \u001b[31m-\u001b[0m\u001b[0m master_config {\n",
            "              \u001b[31m-\u001b[0m\u001b[0m image_uri        = \"https://www.googleapis.com/compute/v1/projects/cloud-dataproc/global/images/dataproc-2-2-ubu22-20241026-165100-rc02\" \u001b[90m-> null\u001b[0m\u001b[0m\n",
            "              \u001b[31m-\u001b[0m\u001b[0m instance_names   = [\n",
            "                  \u001b[31m-\u001b[0m\u001b[0m \"ds-cluster-m\",\n",
            "                ] \u001b[90m-> null\u001b[0m\u001b[0m\n",
            "              \u001b[31m-\u001b[0m\u001b[0m machine_type     = \"e2-standard-2\" \u001b[90m-> null\u001b[0m\u001b[0m\n",
            "              \u001b[31m-\u001b[0m\u001b[0m min_cpu_platform = \"AUTOMATIC\" \u001b[90m-> null\u001b[0m\u001b[0m\n",
            "              \u001b[31m-\u001b[0m\u001b[0m num_instances    = 1 \u001b[90m-> null\u001b[0m\u001b[0m\n",
            "\n",
            "              \u001b[31m-\u001b[0m\u001b[0m disk_config {\n",
            "                  \u001b[31m-\u001b[0m\u001b[0m boot_disk_size_gb   = 100 \u001b[90m-> null\u001b[0m\u001b[0m\n",
            "                  \u001b[31m-\u001b[0m\u001b[0m boot_disk_type      = \"pd-standard\" \u001b[90m-> null\u001b[0m\u001b[0m\n",
            "                  \u001b[31m-\u001b[0m\u001b[0m num_local_ssds      = 0 \u001b[90m-> null\u001b[0m\u001b[0m\n",
            "                    \u001b[90m# (1 unchanged attribute hidden)\u001b[0m\u001b[0m\n",
            "                }\n",
            "            }\n",
            "\n",
            "          \u001b[31m-\u001b[0m\u001b[0m preemptible_worker_config {\n",
            "              \u001b[31m-\u001b[0m\u001b[0m instance_names = [] \u001b[90m-> null\u001b[0m\u001b[0m\n",
            "              \u001b[31m-\u001b[0m\u001b[0m num_instances  = 0 \u001b[90m-> null\u001b[0m\u001b[0m\n",
            "                \u001b[90m# (1 unchanged attribute hidden)\u001b[0m\u001b[0m\n",
            "\n",
            "              \u001b[31m-\u001b[0m\u001b[0m disk_config {}\n",
            "\n",
            "              \u001b[31m-\u001b[0m\u001b[0m instance_flexibility_policy {\n",
            "                  \u001b[31m-\u001b[0m\u001b[0m instance_selection_results = [] \u001b[90m-> null\u001b[0m\u001b[0m\n",
            "                }\n",
            "            }\n",
            "\n",
            "          \u001b[31m-\u001b[0m\u001b[0m software_config {\n",
            "              \u001b[31m-\u001b[0m\u001b[0m image_version       = \"2.2.40-ubuntu22\" \u001b[90m-> null\u001b[0m\u001b[0m\n",
            "              \u001b[31m-\u001b[0m\u001b[0m optional_components = [\n",
            "                  \u001b[31m-\u001b[0m\u001b[0m \"JUPYTER\",\n",
            "                ] \u001b[90m-> null\u001b[0m\u001b[0m\n",
            "              \u001b[31m-\u001b[0m\u001b[0m override_properties = {\n",
            "                  \u001b[31m-\u001b[0m\u001b[0m \"dataproc:jupyter.notebook.gcs.dir\" = \"gs://ds-2024l-7042-notebook-data/data\"\n",
            "                } \u001b[90m-> null\u001b[0m\u001b[0m\n",
            "              \u001b[31m-\u001b[0m\u001b[0m properties          = {\n",
            "                  \u001b[31m-\u001b[0m\u001b[0m \"capacity-scheduler:yarn.scheduler.capacity.resource-calculator\"                          = \"org.apache.hadoop.yarn.util.resource.DominantResourceCalculator\"\n",
            "                  \u001b[31m-\u001b[0m\u001b[0m \"capacity-scheduler:yarn.scheduler.capacity.root.default.ordering-policy\"                 = \"fair\"\n",
            "                  \u001b[31m-\u001b[0m\u001b[0m \"core:fs.gs.block.size\"                                                                   = \"134217728\"\n",
            "                  \u001b[31m-\u001b[0m\u001b[0m \"core:fs.gs.metadata.cache.enable\"                                                        = \"false\"\n",
            "                  \u001b[31m-\u001b[0m\u001b[0m \"core:hadoop.ssl.enabled.protocols\"                                                       = \"TLSv1,TLSv1.1,TLSv1.2\"\n",
            "                  \u001b[31m-\u001b[0m\u001b[0m \"dataproc:jupyter.notebook.gcs.dir\"                                                       = \"gs://ds-2024l-7042-notebook-data/data\"\n",
            "                  \u001b[31m-\u001b[0m\u001b[0m \"distcp:mapreduce.map.java.opts\"                                                          = \"-Xmx576m\"\n",
            "                  \u001b[31m-\u001b[0m\u001b[0m \"distcp:mapreduce.map.memory.mb\"                                                          = \"768\"\n",
            "                  \u001b[31m-\u001b[0m\u001b[0m \"distcp:mapreduce.reduce.java.opts\"                                                       = \"-Xmx576m\"\n",
            "                  \u001b[31m-\u001b[0m\u001b[0m \"distcp:mapreduce.reduce.memory.mb\"                                                       = \"768\"\n",
            "                  \u001b[31m-\u001b[0m\u001b[0m \"hadoop-env:HADOOP_DATANODE_OPTS\"                                                         = \"-Xmx512m\"\n",
            "                  \u001b[31m-\u001b[0m\u001b[0m \"hdfs:dfs.datanode.address\"                                                               = \"0.0.0.0:9866\"\n",
            "                  \u001b[31m-\u001b[0m\u001b[0m \"hdfs:dfs.datanode.http.address\"                                                          = \"0.0.0.0:9864\"\n",
            "                  \u001b[31m-\u001b[0m\u001b[0m \"hdfs:dfs.datanode.https.address\"                                                         = \"0.0.0.0:9865\"\n",
            "                  \u001b[31m-\u001b[0m\u001b[0m \"hdfs:dfs.datanode.ipc.address\"                                                           = \"0.0.0.0:9867\"\n",
            "                  \u001b[31m-\u001b[0m\u001b[0m \"hdfs:dfs.namenode.handler.count\"                                                         = \"20\"\n",
            "                  \u001b[31m-\u001b[0m\u001b[0m \"hdfs:dfs.namenode.http-address\"                                                          = \"0.0.0.0:9870\"\n",
            "                  \u001b[31m-\u001b[0m\u001b[0m \"hdfs:dfs.namenode.https-address\"                                                         = \"0.0.0.0:9871\"\n",
            "                  \u001b[31m-\u001b[0m\u001b[0m \"hdfs:dfs.namenode.lifeline.rpc-address\"                                                  = \"ds-cluster-m:8050\"\n",
            "                  \u001b[31m-\u001b[0m\u001b[0m \"hdfs:dfs.namenode.secondary.http-address\"                                                = \"0.0.0.0:9868\"\n",
            "                  \u001b[31m-\u001b[0m\u001b[0m \"hdfs:dfs.namenode.secondary.https-address\"                                               = \"0.0.0.0:9869\"\n",
            "                  \u001b[31m-\u001b[0m\u001b[0m \"hdfs:dfs.namenode.service.handler.count\"                                                 = \"10\"\n",
            "                  \u001b[31m-\u001b[0m\u001b[0m \"hdfs:dfs.namenode.servicerpc-address\"                                                    = \"ds-cluster-m:8051\"\n",
            "                  \u001b[31m-\u001b[0m\u001b[0m \"mapred-env:HADOOP_JOB_HISTORYSERVER_HEAPSIZE\"                                            = \"2048\"\n",
            "                  \u001b[31m-\u001b[0m\u001b[0m \"mapred:mapreduce.job.maps\"                                                               = \"9\"\n",
            "                  \u001b[31m-\u001b[0m\u001b[0m \"mapred:mapreduce.job.reduce.slowstart.completedmaps\"                                     = \"0.95\"\n",
            "                  \u001b[31m-\u001b[0m\u001b[0m \"mapred:mapreduce.job.reduces\"                                                            = \"3\"\n",
            "                  \u001b[31m-\u001b[0m\u001b[0m \"mapred:mapreduce.jobhistory.recovery.store.class\"                                        = \"org.apache.hadoop.mapreduce.v2.hs.HistoryServerLeveldbStateStoreService\"\n",
            "                  \u001b[31m-\u001b[0m\u001b[0m \"mapred:mapreduce.map.cpu.vcores\"                                                         = \"1\"\n",
            "                  \u001b[31m-\u001b[0m\u001b[0m \"mapred:mapreduce.map.java.opts\"                                                          = \"-Xmx2621m\"\n",
            "                  \u001b[31m-\u001b[0m\u001b[0m \"mapred:mapreduce.map.memory.mb\"                                                          = \"3277\"\n",
            "                  \u001b[31m-\u001b[0m\u001b[0m \"mapred:mapreduce.reduce.cpu.vcores\"                                                      = \"1\"\n",
            "                  \u001b[31m-\u001b[0m\u001b[0m \"mapred:mapreduce.reduce.java.opts\"                                                       = \"-Xmx2621m\"\n",
            "                  \u001b[31m-\u001b[0m\u001b[0m \"mapred:mapreduce.reduce.memory.mb\"                                                       = \"3277\"\n",
            "                  \u001b[31m-\u001b[0m\u001b[0m \"mapred:mapreduce.task.io.sort.mb\"                                                        = \"256\"\n",
            "                  \u001b[31m-\u001b[0m\u001b[0m \"mapred:yarn.app.mapreduce.am.command-opts\"                                               = \"-Xmx2621m\"\n",
            "                  \u001b[31m-\u001b[0m\u001b[0m \"mapred:yarn.app.mapreduce.am.resource.cpu-vcores\"                                        = \"1\"\n",
            "                  \u001b[31m-\u001b[0m\u001b[0m \"mapred:yarn.app.mapreduce.am.resource.mb\"                                                = \"3277\"\n",
            "                  \u001b[31m-\u001b[0m\u001b[0m \"spark-env:SPARK_DAEMON_MEMORY\"                                                           = \"2048m\"\n",
            "                  \u001b[31m-\u001b[0m\u001b[0m \"spark:spark.driver.maxResultSize\"                                                        = \"1024m\"\n",
            "                  \u001b[31m-\u001b[0m\u001b[0m \"spark:spark.driver.memory\"                                                               = \"2048m\"\n",
            "                  \u001b[31m-\u001b[0m\u001b[0m \"spark:spark.executor.cores\"                                                              = \"1\"\n",
            "                  \u001b[31m-\u001b[0m\u001b[0m \"spark:spark.executor.instances\"                                                          = \"2\"\n",
            "                  \u001b[31m-\u001b[0m\u001b[0m \"spark:spark.executor.memory\"                                                             = \"2893m\"\n",
            "                  \u001b[31m-\u001b[0m\u001b[0m \"spark:spark.executorEnv.OPENBLAS_NUM_THREADS\"                                            = \"1\"\n",
            "                  \u001b[31m-\u001b[0m\u001b[0m \"spark:spark.plugins.defaultList\"                                                         = \"com.google.cloud.dataproc.DataprocSparkPlugin\"\n",
            "                  \u001b[31m-\u001b[0m\u001b[0m \"spark:spark.scheduler.mode\"                                                              = \"FAIR\"\n",
            "                  \u001b[31m-\u001b[0m\u001b[0m \"spark:spark.sql.cbo.enabled\"                                                             = \"true\"\n",
            "                  \u001b[31m-\u001b[0m\u001b[0m \"spark:spark.sql.optimizer.runtime.bloomFilter.join.pattern.enabled\"                      = \"true\"\n",
            "                  \u001b[31m-\u001b[0m\u001b[0m \"spark:spark.ui.port\"                                                                     = \"0\"\n",
            "                  \u001b[31m-\u001b[0m\u001b[0m \"spark:spark.yarn.am.memory\"                                                              = \"640m\"\n",
            "                  \u001b[31m-\u001b[0m\u001b[0m \"yarn-env:YARN_NODEMANAGER_HEAPSIZE\"                                                      = \"819\"\n",
            "                  \u001b[31m-\u001b[0m\u001b[0m \"yarn-env:YARN_RESOURCEMANAGER_HEAPSIZE\"                                                  = \"2048\"\n",
            "                  \u001b[31m-\u001b[0m\u001b[0m \"yarn-env:YARN_TIMELINESERVER_HEAPSIZE\"                                                   = \"2048\"\n",
            "                  \u001b[31m-\u001b[0m\u001b[0m \"yarn:yarn.nodemanager.address\"                                                           = \"0.0.0.0:8026\"\n",
            "                  \u001b[31m-\u001b[0m\u001b[0m \"yarn:yarn.nodemanager.resource.cpu-vcores\"                                               = \"2\"\n",
            "                  \u001b[31m-\u001b[0m\u001b[0m \"yarn:yarn.nodemanager.resource.memory-mb\"                                                = \"6554\"\n",
            "                  \u001b[31m-\u001b[0m\u001b[0m \"yarn:yarn.resourcemanager.decommissioning-nodes-watcher.decommission-if-no-shuffle-data\" = \"true\"\n",
            "                  \u001b[31m-\u001b[0m\u001b[0m \"yarn:yarn.resourcemanager.nodemanager-graceful-decommission-timeout-secs\"                = \"86400\"\n",
            "                  \u001b[31m-\u001b[0m\u001b[0m \"yarn:yarn.scheduler.maximum-allocation-mb\"                                               = \"6554\"\n",
            "                  \u001b[31m-\u001b[0m\u001b[0m \"yarn:yarn.scheduler.minimum-allocation-mb\"                                               = \"1\"\n",
            "                } \u001b[90m-> null\u001b[0m\u001b[0m\n",
            "            }\n",
            "\n",
            "          \u001b[31m-\u001b[0m\u001b[0m worker_config {\n",
            "              \u001b[31m-\u001b[0m\u001b[0m image_uri         = \"https://www.googleapis.com/compute/v1/projects/cloud-dataproc/global/images/dataproc-2-2-ubu22-20241026-165100-rc02\" \u001b[90m-> null\u001b[0m\u001b[0m\n",
            "              \u001b[31m-\u001b[0m\u001b[0m instance_names    = [\n",
            "                  \u001b[31m-\u001b[0m\u001b[0m \"ds-cluster-w-0\",\n",
            "                  \u001b[31m-\u001b[0m\u001b[0m \"ds-cluster-w-1\",\n",
            "                ] \u001b[90m-> null\u001b[0m\u001b[0m\n",
            "              \u001b[31m-\u001b[0m\u001b[0m machine_type      = \"e2-standard-2\" \u001b[90m-> null\u001b[0m\u001b[0m\n",
            "              \u001b[31m-\u001b[0m\u001b[0m min_cpu_platform  = \"AUTOMATIC\" \u001b[90m-> null\u001b[0m\u001b[0m\n",
            "              \u001b[31m-\u001b[0m\u001b[0m min_num_instances = 0 \u001b[90m-> null\u001b[0m\u001b[0m\n",
            "              \u001b[31m-\u001b[0m\u001b[0m num_instances     = 2 \u001b[90m-> null\u001b[0m\u001b[0m\n",
            "\n",
            "              \u001b[31m-\u001b[0m\u001b[0m disk_config {\n",
            "                  \u001b[31m-\u001b[0m\u001b[0m boot_disk_size_gb   = 100 \u001b[90m-> null\u001b[0m\u001b[0m\n",
            "                  \u001b[31m-\u001b[0m\u001b[0m boot_disk_type      = \"pd-standard\" \u001b[90m-> null\u001b[0m\u001b[0m\n",
            "                  \u001b[31m-\u001b[0m\u001b[0m num_local_ssds      = 0 \u001b[90m-> null\u001b[0m\u001b[0m\n",
            "                    \u001b[90m# (1 unchanged attribute hidden)\u001b[0m\u001b[0m\n",
            "                }\n",
            "            }\n",
            "        }\n",
            "    }\n",
            "\n",
            "\u001b[1m  # module.dataproc.google_project_iam_member.dataproc-service-account[\"roles/dataproc.worker\"]\u001b[0m will be \u001b[1m\u001b[31mdestroyed\u001b[0m\n",
            "\u001b[0m  \u001b[31m-\u001b[0m\u001b[0m resource \"google_project_iam_member\" \"dataproc-service-account\" {\n",
            "      \u001b[31m-\u001b[0m\u001b[0m etag    = \"BwYp23brlyc=\" \u001b[90m-> null\u001b[0m\u001b[0m\n",
            "      \u001b[31m-\u001b[0m\u001b[0m id      = \"ds-2024l-7042/roles/dataproc.worker/serviceAccount:ds-service-account@ds-2024l-7042.iam.gserviceaccount.com\" \u001b[90m-> null\u001b[0m\u001b[0m\n",
            "      \u001b[31m-\u001b[0m\u001b[0m member  = \"serviceAccount:ds-service-account@ds-2024l-7042.iam.gserviceaccount.com\" \u001b[90m-> null\u001b[0m\u001b[0m\n",
            "      \u001b[31m-\u001b[0m\u001b[0m project = \"ds-2024l-7042\" \u001b[90m-> null\u001b[0m\u001b[0m\n",
            "      \u001b[31m-\u001b[0m\u001b[0m role    = \"roles/dataproc.worker\" \u001b[90m-> null\u001b[0m\u001b[0m\n",
            "    }\n",
            "\n",
            "\u001b[1m  # module.dataproc.google_project_iam_member.dataproc-service-account[\"roles/storage.admin\"]\u001b[0m will be \u001b[1m\u001b[31mdestroyed\u001b[0m\n",
            "\u001b[0m  \u001b[31m-\u001b[0m\u001b[0m resource \"google_project_iam_member\" \"dataproc-service-account\" {\n",
            "      \u001b[31m-\u001b[0m\u001b[0m etag    = \"BwYp23brlyc=\" \u001b[90m-> null\u001b[0m\u001b[0m\n",
            "      \u001b[31m-\u001b[0m\u001b[0m id      = \"ds-2024l-7042/roles/storage.admin/serviceAccount:ds-service-account@ds-2024l-7042.iam.gserviceaccount.com\" \u001b[90m-> null\u001b[0m\u001b[0m\n",
            "      \u001b[31m-\u001b[0m\u001b[0m member  = \"serviceAccount:ds-service-account@ds-2024l-7042.iam.gserviceaccount.com\" \u001b[90m-> null\u001b[0m\u001b[0m\n",
            "      \u001b[31m-\u001b[0m\u001b[0m project = \"ds-2024l-7042\" \u001b[90m-> null\u001b[0m\u001b[0m\n",
            "      \u001b[31m-\u001b[0m\u001b[0m role    = \"roles/storage.admin\" \u001b[90m-> null\u001b[0m\u001b[0m\n",
            "    }\n",
            "\n",
            "\u001b[1m  # module.dataproc.google_project_service.dataproc\u001b[0m will be \u001b[1m\u001b[31mdestroyed\u001b[0m\n",
            "\u001b[0m  \u001b[31m-\u001b[0m\u001b[0m resource \"google_project_service\" \"dataproc\" {\n",
            "      \u001b[31m-\u001b[0m\u001b[0m disable_on_destroy = true \u001b[90m-> null\u001b[0m\u001b[0m\n",
            "      \u001b[31m-\u001b[0m\u001b[0m id                 = \"ds-2024l-7042/dataproc.googleapis.com\" \u001b[90m-> null\u001b[0m\u001b[0m\n",
            "      \u001b[31m-\u001b[0m\u001b[0m project            = \"ds-2024l-7042\" \u001b[90m-> null\u001b[0m\u001b[0m\n",
            "      \u001b[31m-\u001b[0m\u001b[0m service            = \"dataproc.googleapis.com\" \u001b[90m-> null\u001b[0m\u001b[0m\n",
            "    }\n",
            "\n",
            "\u001b[1m  # module.dataproc.google_service_account.default\u001b[0m will be \u001b[1m\u001b[31mdestroyed\u001b[0m\n",
            "\u001b[0m  \u001b[31m-\u001b[0m\u001b[0m resource \"google_service_account\" \"default\" {\n",
            "      \u001b[31m-\u001b[0m\u001b[0m account_id   = \"ds-service-account\" \u001b[90m-> null\u001b[0m\u001b[0m\n",
            "      \u001b[31m-\u001b[0m\u001b[0m disabled     = false \u001b[90m-> null\u001b[0m\u001b[0m\n",
            "      \u001b[31m-\u001b[0m\u001b[0m display_name = \"DS Lab Service Account\" \u001b[90m-> null\u001b[0m\u001b[0m\n",
            "      \u001b[31m-\u001b[0m\u001b[0m email        = \"ds-service-account@ds-2024l-7042.iam.gserviceaccount.com\" \u001b[90m-> null\u001b[0m\u001b[0m\n",
            "      \u001b[31m-\u001b[0m\u001b[0m id           = \"projects/ds-2024l-7042/serviceAccounts/ds-service-account@ds-2024l-7042.iam.gserviceaccount.com\" \u001b[90m-> null\u001b[0m\u001b[0m\n",
            "      \u001b[31m-\u001b[0m\u001b[0m member       = \"serviceAccount:ds-service-account@ds-2024l-7042.iam.gserviceaccount.com\" \u001b[90m-> null\u001b[0m\u001b[0m\n",
            "      \u001b[31m-\u001b[0m\u001b[0m name         = \"projects/ds-2024l-7042/serviceAccounts/ds-service-account@ds-2024l-7042.iam.gserviceaccount.com\" \u001b[90m-> null\u001b[0m\u001b[0m\n",
            "      \u001b[31m-\u001b[0m\u001b[0m project      = \"ds-2024l-7042\" \u001b[90m-> null\u001b[0m\u001b[0m\n",
            "      \u001b[31m-\u001b[0m\u001b[0m unique_id    = \"113285654822714221843\" \u001b[90m-> null\u001b[0m\u001b[0m\n",
            "        \u001b[90m# (1 unchanged attribute hidden)\u001b[0m\u001b[0m\n",
            "    }\n",
            "\n",
            "\u001b[1m  # module.vpc.google_compute_firewall.default-internal-allow-all\u001b[0m will be \u001b[1m\u001b[31mdestroyed\u001b[0m\n",
            "\u001b[0m  \u001b[31m-\u001b[0m\u001b[0m resource \"google_compute_firewall\" \"default-internal-allow-all\" {\n",
            "      \u001b[31m-\u001b[0m\u001b[0m creation_timestamp      = \"2024-12-22T04:59:46.260-08:00\" \u001b[90m-> null\u001b[0m\u001b[0m\n",
            "      \u001b[31m-\u001b[0m\u001b[0m destination_ranges      = [] \u001b[90m-> null\u001b[0m\u001b[0m\n",
            "      \u001b[31m-\u001b[0m\u001b[0m direction               = \"INGRESS\" \u001b[90m-> null\u001b[0m\u001b[0m\n",
            "      \u001b[31m-\u001b[0m\u001b[0m disabled                = false \u001b[90m-> null\u001b[0m\u001b[0m\n",
            "      \u001b[31m-\u001b[0m\u001b[0m id                      = \"projects/ds-2024l-7042/global/firewalls/default-internal-allow-all\" \u001b[90m-> null\u001b[0m\u001b[0m\n",
            "      \u001b[31m-\u001b[0m\u001b[0m name                    = \"default-internal-allow-all\" \u001b[90m-> null\u001b[0m\u001b[0m\n",
            "      \u001b[31m-\u001b[0m\u001b[0m network                 = \"https://www.googleapis.com/compute/v1/projects/ds-2024l-7042/global/networks/main-vpc\" \u001b[90m-> null\u001b[0m\u001b[0m\n",
            "      \u001b[31m-\u001b[0m\u001b[0m priority                = 65534 \u001b[90m-> null\u001b[0m\u001b[0m\n",
            "      \u001b[31m-\u001b[0m\u001b[0m project                 = \"ds-2024l-7042\" \u001b[90m-> null\u001b[0m\u001b[0m\n",
            "      \u001b[31m-\u001b[0m\u001b[0m self_link               = \"https://www.googleapis.com/compute/v1/projects/ds-2024l-7042/global/firewalls/default-internal-allow-all\" \u001b[90m-> null\u001b[0m\u001b[0m\n",
            "      \u001b[31m-\u001b[0m\u001b[0m source_ranges           = [\n",
            "          \u001b[31m-\u001b[0m\u001b[0m \"10.10.10.0/24\",\n",
            "        ] \u001b[90m-> null\u001b[0m\u001b[0m\n",
            "      \u001b[31m-\u001b[0m\u001b[0m source_service_accounts = [] \u001b[90m-> null\u001b[0m\u001b[0m\n",
            "      \u001b[31m-\u001b[0m\u001b[0m source_tags             = [] \u001b[90m-> null\u001b[0m\u001b[0m\n",
            "      \u001b[31m-\u001b[0m\u001b[0m target_service_accounts = [] \u001b[90m-> null\u001b[0m\u001b[0m\n",
            "      \u001b[31m-\u001b[0m\u001b[0m target_tags             = [] \u001b[90m-> null\u001b[0m\u001b[0m\n",
            "        \u001b[90m# (1 unchanged attribute hidden)\u001b[0m\u001b[0m\n",
            "\n",
            "      \u001b[31m-\u001b[0m\u001b[0m allow {\n",
            "          \u001b[31m-\u001b[0m\u001b[0m ports    = [] \u001b[90m-> null\u001b[0m\u001b[0m\n",
            "          \u001b[31m-\u001b[0m\u001b[0m protocol = \"all\" \u001b[90m-> null\u001b[0m\u001b[0m\n",
            "        }\n",
            "    }\n",
            "\n",
            "\u001b[1m  # module.vpc.google_compute_firewall.fw-allow-ingress-from-iap\u001b[0m will be \u001b[1m\u001b[31mdestroyed\u001b[0m\n",
            "\u001b[0m  \u001b[31m-\u001b[0m\u001b[0m resource \"google_compute_firewall\" \"fw-allow-ingress-from-iap\" {\n",
            "      \u001b[31m-\u001b[0m\u001b[0m creation_timestamp      = \"2024-12-22T04:59:46.245-08:00\" \u001b[90m-> null\u001b[0m\u001b[0m\n",
            "      \u001b[31m-\u001b[0m\u001b[0m destination_ranges      = [] \u001b[90m-> null\u001b[0m\u001b[0m\n",
            "      \u001b[31m-\u001b[0m\u001b[0m direction               = \"INGRESS\" \u001b[90m-> null\u001b[0m\u001b[0m\n",
            "      \u001b[31m-\u001b[0m\u001b[0m disabled                = false \u001b[90m-> null\u001b[0m\u001b[0m\n",
            "      \u001b[31m-\u001b[0m\u001b[0m id                      = \"projects/ds-2024l-7042/global/firewalls/fw-allow-ingress-iap\" \u001b[90m-> null\u001b[0m\u001b[0m\n",
            "      \u001b[31m-\u001b[0m\u001b[0m name                    = \"fw-allow-ingress-iap\" \u001b[90m-> null\u001b[0m\u001b[0m\n",
            "      \u001b[31m-\u001b[0m\u001b[0m network                 = \"https://www.googleapis.com/compute/v1/projects/ds-2024l-7042/global/networks/main-vpc\" \u001b[90m-> null\u001b[0m\u001b[0m\n",
            "      \u001b[31m-\u001b[0m\u001b[0m priority                = 1000 \u001b[90m-> null\u001b[0m\u001b[0m\n",
            "      \u001b[31m-\u001b[0m\u001b[0m project                 = \"ds-2024l-7042\" \u001b[90m-> null\u001b[0m\u001b[0m\n",
            "      \u001b[31m-\u001b[0m\u001b[0m self_link               = \"https://www.googleapis.com/compute/v1/projects/ds-2024l-7042/global/firewalls/fw-allow-ingress-iap\" \u001b[90m-> null\u001b[0m\u001b[0m\n",
            "      \u001b[31m-\u001b[0m\u001b[0m source_ranges           = [\n",
            "          \u001b[31m-\u001b[0m\u001b[0m \"35.235.240.0/20\",\n",
            "        ] \u001b[90m-> null\u001b[0m\u001b[0m\n",
            "      \u001b[31m-\u001b[0m\u001b[0m source_service_accounts = [] \u001b[90m-> null\u001b[0m\u001b[0m\n",
            "      \u001b[31m-\u001b[0m\u001b[0m source_tags             = [] \u001b[90m-> null\u001b[0m\u001b[0m\n",
            "      \u001b[31m-\u001b[0m\u001b[0m target_service_accounts = [] \u001b[90m-> null\u001b[0m\u001b[0m\n",
            "      \u001b[31m-\u001b[0m\u001b[0m target_tags             = [] \u001b[90m-> null\u001b[0m\u001b[0m\n",
            "        \u001b[90m# (1 unchanged attribute hidden)\u001b[0m\u001b[0m\n",
            "\n",
            "      \u001b[31m-\u001b[0m\u001b[0m allow {\n",
            "          \u001b[31m-\u001b[0m\u001b[0m ports    = [\n",
            "              \u001b[31m-\u001b[0m\u001b[0m \"22\",\n",
            "              \u001b[31m-\u001b[0m\u001b[0m \"8443\",\n",
            "              \u001b[31m-\u001b[0m\u001b[0m \"443\",\n",
            "              \u001b[31m-\u001b[0m\u001b[0m \"80\",\n",
            "              \u001b[31m-\u001b[0m\u001b[0m \"8000\",\n",
            "            ] \u001b[90m-> null\u001b[0m\u001b[0m\n",
            "          \u001b[31m-\u001b[0m\u001b[0m protocol = \"tcp\" \u001b[90m-> null\u001b[0m\u001b[0m\n",
            "        }\n",
            "    }\n",
            "\n",
            "\u001b[1m  # module.vpc.module.cloud-router.google_compute_router.router\u001b[0m will be \u001b[1m\u001b[31mdestroyed\u001b[0m\n",
            "\u001b[0m  \u001b[31m-\u001b[0m\u001b[0m resource \"google_compute_router\" \"router\" {\n",
            "      \u001b[31m-\u001b[0m\u001b[0m creation_timestamp            = \"2024-12-22T04:59:49.162-08:00\" \u001b[90m-> null\u001b[0m\u001b[0m\n",
            "      \u001b[31m-\u001b[0m\u001b[0m encrypted_interconnect_router = false \u001b[90m-> null\u001b[0m\u001b[0m\n",
            "      \u001b[31m-\u001b[0m\u001b[0m id                            = \"projects/ds-2024l-7042/regions/europe-west1/routers/nat-router\" \u001b[90m-> null\u001b[0m\u001b[0m\n",
            "      \u001b[31m-\u001b[0m\u001b[0m name                          = \"nat-router\" \u001b[90m-> null\u001b[0m\u001b[0m\n",
            "      \u001b[31m-\u001b[0m\u001b[0m network                       = \"https://www.googleapis.com/compute/v1/projects/ds-2024l-7042/global/networks/main-vpc\" \u001b[90m-> null\u001b[0m\u001b[0m\n",
            "      \u001b[31m-\u001b[0m\u001b[0m project                       = \"ds-2024l-7042\" \u001b[90m-> null\u001b[0m\u001b[0m\n",
            "      \u001b[31m-\u001b[0m\u001b[0m region                        = \"europe-west1\" \u001b[90m-> null\u001b[0m\u001b[0m\n",
            "      \u001b[31m-\u001b[0m\u001b[0m self_link                     = \"https://www.googleapis.com/compute/v1/projects/ds-2024l-7042/regions/europe-west1/routers/nat-router\" \u001b[90m-> null\u001b[0m\u001b[0m\n",
            "        \u001b[90m# (1 unchanged attribute hidden)\u001b[0m\u001b[0m\n",
            "    }\n",
            "\n",
            "\u001b[1m  # module.vpc.module.cloud-router.google_compute_router_nat.nats[\"nat-gateway\"]\u001b[0m will be \u001b[1m\u001b[31mdestroyed\u001b[0m\n",
            "\u001b[0m  \u001b[31m-\u001b[0m\u001b[0m resource \"google_compute_router_nat\" \"nats\" {\n",
            "      \u001b[31m-\u001b[0m\u001b[0m auto_network_tier                   = \"PREMIUM\" \u001b[90m-> null\u001b[0m\u001b[0m\n",
            "      \u001b[31m-\u001b[0m\u001b[0m drain_nat_ips                       = [] \u001b[90m-> null\u001b[0m\u001b[0m\n",
            "      \u001b[31m-\u001b[0m\u001b[0m enable_dynamic_port_allocation      = false \u001b[90m-> null\u001b[0m\u001b[0m\n",
            "      \u001b[31m-\u001b[0m\u001b[0m enable_endpoint_independent_mapping = false \u001b[90m-> null\u001b[0m\u001b[0m\n",
            "      \u001b[31m-\u001b[0m\u001b[0m endpoint_types                      = [\n",
            "          \u001b[31m-\u001b[0m\u001b[0m \"ENDPOINT_TYPE_VM\",\n",
            "        ] \u001b[90m-> null\u001b[0m\u001b[0m\n",
            "      \u001b[31m-\u001b[0m\u001b[0m icmp_idle_timeout_sec               = 30 \u001b[90m-> null\u001b[0m\u001b[0m\n",
            "      \u001b[31m-\u001b[0m\u001b[0m id                                  = \"ds-2024l-7042/europe-west1/nat-router/nat-gateway\" \u001b[90m-> null\u001b[0m\u001b[0m\n",
            "      \u001b[31m-\u001b[0m\u001b[0m max_ports_per_vm                    = 0 \u001b[90m-> null\u001b[0m\u001b[0m\n",
            "      \u001b[31m-\u001b[0m\u001b[0m min_ports_per_vm                    = 0 \u001b[90m-> null\u001b[0m\u001b[0m\n",
            "      \u001b[31m-\u001b[0m\u001b[0m name                                = \"nat-gateway\" \u001b[90m-> null\u001b[0m\u001b[0m\n",
            "      \u001b[31m-\u001b[0m\u001b[0m nat_ip_allocate_option              = \"AUTO_ONLY\" \u001b[90m-> null\u001b[0m\u001b[0m\n",
            "      \u001b[31m-\u001b[0m\u001b[0m nat_ips                             = [] \u001b[90m-> null\u001b[0m\u001b[0m\n",
            "      \u001b[31m-\u001b[0m\u001b[0m project                             = \"ds-2024l-7042\" \u001b[90m-> null\u001b[0m\u001b[0m\n",
            "      \u001b[31m-\u001b[0m\u001b[0m region                              = \"europe-west1\" \u001b[90m-> null\u001b[0m\u001b[0m\n",
            "      \u001b[31m-\u001b[0m\u001b[0m router                              = \"nat-router\" \u001b[90m-> null\u001b[0m\u001b[0m\n",
            "      \u001b[31m-\u001b[0m\u001b[0m source_subnetwork_ip_ranges_to_nat  = \"ALL_SUBNETWORKS_ALL_IP_RANGES\" \u001b[90m-> null\u001b[0m\u001b[0m\n",
            "      \u001b[31m-\u001b[0m\u001b[0m tcp_established_idle_timeout_sec    = 1200 \u001b[90m-> null\u001b[0m\u001b[0m\n",
            "      \u001b[31m-\u001b[0m\u001b[0m tcp_time_wait_timeout_sec           = 120 \u001b[90m-> null\u001b[0m\u001b[0m\n",
            "      \u001b[31m-\u001b[0m\u001b[0m tcp_transitory_idle_timeout_sec     = 30 \u001b[90m-> null\u001b[0m\u001b[0m\n",
            "      \u001b[31m-\u001b[0m\u001b[0m udp_idle_timeout_sec                = 30 \u001b[90m-> null\u001b[0m\u001b[0m\n",
            "\n",
            "      \u001b[31m-\u001b[0m\u001b[0m log_config {\n",
            "          \u001b[31m-\u001b[0m\u001b[0m enable = true \u001b[90m-> null\u001b[0m\u001b[0m\n",
            "          \u001b[31m-\u001b[0m\u001b[0m filter = \"ALL\" \u001b[90m-> null\u001b[0m\u001b[0m\n",
            "        }\n",
            "    }\n",
            "\n",
            "\u001b[1m  # module.vpc.module.vpc.module.routes.google_compute_route.route[\"egress-internet\"]\u001b[0m will be \u001b[1m\u001b[31mdestroyed\u001b[0m\n",
            "\u001b[0m  \u001b[31m-\u001b[0m\u001b[0m resource \"google_compute_route\" \"route\" {\n",
            "      \u001b[31m-\u001b[0m\u001b[0m description         = \"route through IGW to access internet\" \u001b[90m-> null\u001b[0m\u001b[0m\n",
            "      \u001b[31m-\u001b[0m\u001b[0m dest_range          = \"0.0.0.0/0\" \u001b[90m-> null\u001b[0m\u001b[0m\n",
            "      \u001b[31m-\u001b[0m\u001b[0m id                  = \"projects/ds-2024l-7042/global/routes/egress-internet\" \u001b[90m-> null\u001b[0m\u001b[0m\n",
            "      \u001b[31m-\u001b[0m\u001b[0m name                = \"egress-internet\" \u001b[90m-> null\u001b[0m\u001b[0m\n",
            "      \u001b[31m-\u001b[0m\u001b[0m network             = \"https://www.googleapis.com/compute/v1/projects/ds-2024l-7042/global/networks/main-vpc\" \u001b[90m-> null\u001b[0m\u001b[0m\n",
            "      \u001b[31m-\u001b[0m\u001b[0m next_hop_gateway    = \"https://www.googleapis.com/compute/v1/projects/ds-2024l-7042/global/gateways/default-internet-gateway\" \u001b[90m-> null\u001b[0m\u001b[0m\n",
            "      \u001b[31m-\u001b[0m\u001b[0m priority            = 1000 \u001b[90m-> null\u001b[0m\u001b[0m\n",
            "      \u001b[31m-\u001b[0m\u001b[0m project             = \"ds-2024l-7042\" \u001b[90m-> null\u001b[0m\u001b[0m\n",
            "      \u001b[31m-\u001b[0m\u001b[0m self_link           = \"https://www.googleapis.com/compute/v1/projects/ds-2024l-7042/global/routes/egress-internet\" \u001b[90m-> null\u001b[0m\u001b[0m\n",
            "      \u001b[31m-\u001b[0m\u001b[0m tags                = [] \u001b[90m-> null\u001b[0m\u001b[0m\n",
            "        \u001b[90m# (5 unchanged attributes hidden)\u001b[0m\u001b[0m\n",
            "    }\n",
            "\n",
            "\u001b[1m  # module.vpc.module.vpc.module.subnets.google_compute_subnetwork.subnetwork[\"europe-west1/dataproc-01\"]\u001b[0m will be \u001b[1m\u001b[31mdestroyed\u001b[0m\n",
            "\u001b[0m  \u001b[31m-\u001b[0m\u001b[0m resource \"google_compute_subnetwork\" \"subnetwork\" {\n",
            "      \u001b[31m-\u001b[0m\u001b[0m creation_timestamp         = \"2024-12-22T04:59:50.959-08:00\" \u001b[90m-> null\u001b[0m\u001b[0m\n",
            "      \u001b[31m-\u001b[0m\u001b[0m gateway_address            = \"10.10.10.1\" \u001b[90m-> null\u001b[0m\u001b[0m\n",
            "      \u001b[31m-\u001b[0m\u001b[0m id                         = \"projects/ds-2024l-7042/regions/europe-west1/subnetworks/dataproc-01\" \u001b[90m-> null\u001b[0m\u001b[0m\n",
            "      \u001b[31m-\u001b[0m\u001b[0m ip_cidr_range              = \"10.10.10.0/24\" \u001b[90m-> null\u001b[0m\u001b[0m\n",
            "      \u001b[31m-\u001b[0m\u001b[0m name                       = \"dataproc-01\" \u001b[90m-> null\u001b[0m\u001b[0m\n",
            "      \u001b[31m-\u001b[0m\u001b[0m network                    = \"https://www.googleapis.com/compute/v1/projects/ds-2024l-7042/global/networks/main-vpc\" \u001b[90m-> null\u001b[0m\u001b[0m\n",
            "      \u001b[31m-\u001b[0m\u001b[0m private_ip_google_access   = true \u001b[90m-> null\u001b[0m\u001b[0m\n",
            "      \u001b[31m-\u001b[0m\u001b[0m private_ipv6_google_access = \"DISABLE_GOOGLE_ACCESS\" \u001b[90m-> null\u001b[0m\u001b[0m\n",
            "      \u001b[31m-\u001b[0m\u001b[0m project                    = \"ds-2024l-7042\" \u001b[90m-> null\u001b[0m\u001b[0m\n",
            "      \u001b[31m-\u001b[0m\u001b[0m purpose                    = \"PRIVATE\" \u001b[90m-> null\u001b[0m\u001b[0m\n",
            "      \u001b[31m-\u001b[0m\u001b[0m region                     = \"europe-west1\" \u001b[90m-> null\u001b[0m\u001b[0m\n",
            "      \u001b[31m-\u001b[0m\u001b[0m self_link                  = \"https://www.googleapis.com/compute/v1/projects/ds-2024l-7042/regions/europe-west1/subnetworks/dataproc-01\" \u001b[90m-> null\u001b[0m\u001b[0m\n",
            "      \u001b[31m-\u001b[0m\u001b[0m stack_type                 = \"IPV4_ONLY\" \u001b[90m-> null\u001b[0m\u001b[0m\n",
            "        \u001b[90m# (7 unchanged attributes hidden)\u001b[0m\u001b[0m\n",
            "    }\n",
            "\n",
            "\u001b[1m  # module.vpc.module.vpc.module.vpc.google_compute_network.network\u001b[0m will be \u001b[1m\u001b[31mdestroyed\u001b[0m\n",
            "\u001b[0m  \u001b[31m-\u001b[0m\u001b[0m resource \"google_compute_network\" \"network\" {\n",
            "      \u001b[31m-\u001b[0m\u001b[0m auto_create_subnetworks                   = false \u001b[90m-> null\u001b[0m\u001b[0m\n",
            "      \u001b[31m-\u001b[0m\u001b[0m delete_default_routes_on_create           = false \u001b[90m-> null\u001b[0m\u001b[0m\n",
            "      \u001b[31m-\u001b[0m\u001b[0m enable_ula_internal_ipv6                  = false \u001b[90m-> null\u001b[0m\u001b[0m\n",
            "      \u001b[31m-\u001b[0m\u001b[0m id                                        = \"projects/ds-2024l-7042/global/networks/main-vpc\" \u001b[90m-> null\u001b[0m\u001b[0m\n",
            "      \u001b[31m-\u001b[0m\u001b[0m mtu                                       = 0 \u001b[90m-> null\u001b[0m\u001b[0m\n",
            "      \u001b[31m-\u001b[0m\u001b[0m name                                      = \"main-vpc\" \u001b[90m-> null\u001b[0m\u001b[0m\n",
            "      \u001b[31m-\u001b[0m\u001b[0m network_firewall_policy_enforcement_order = \"AFTER_CLASSIC_FIREWALL\" \u001b[90m-> null\u001b[0m\u001b[0m\n",
            "      \u001b[31m-\u001b[0m\u001b[0m numeric_id                                = \"7762166243943363544\" \u001b[90m-> null\u001b[0m\u001b[0m\n",
            "      \u001b[31m-\u001b[0m\u001b[0m project                                   = \"ds-2024l-7042\" \u001b[90m-> null\u001b[0m\u001b[0m\n",
            "      \u001b[31m-\u001b[0m\u001b[0m routing_mode                              = \"GLOBAL\" \u001b[90m-> null\u001b[0m\u001b[0m\n",
            "      \u001b[31m-\u001b[0m\u001b[0m self_link                                 = \"https://www.googleapis.com/compute/v1/projects/ds-2024l-7042/global/networks/main-vpc\" \u001b[90m-> null\u001b[0m\u001b[0m\n",
            "        \u001b[90m# (3 unchanged attributes hidden)\u001b[0m\u001b[0m\n",
            "    }\n",
            "\n",
            "\u001b[1mPlan:\u001b[0m 0 to add, 0 to change, 12 to destroy.\n",
            "\u001b[0m\u001b[0m\u001b[1mmodule.dataproc.google_dataproc_cluster.dataproc-cluster: Destroying... [id=projects/ds-2024l-7042/regions/europe-west1/clusters/ds-cluster]\u001b[0m\u001b[0m\n",
            "\u001b[0m\u001b[1mmodule.dataproc.google_dataproc_cluster.dataproc-cluster: Still destroying... [id=projects/ds-2024l-7042/regions/europe-west1/clusters/ds-cluster, 10s elapsed]\u001b[0m\u001b[0m\n",
            "\u001b[0m\u001b[1mmodule.dataproc.google_dataproc_cluster.dataproc-cluster: Still destroying... [id=projects/ds-2024l-7042/regions/europe-west1/clusters/ds-cluster, 20s elapsed]\u001b[0m\u001b[0m\n",
            "\u001b[0m\u001b[1mmodule.dataproc.google_dataproc_cluster.dataproc-cluster: Still destroying... [id=projects/ds-2024l-7042/regions/europe-west1/clusters/ds-cluster, 30s elapsed]\u001b[0m\u001b[0m\n",
            "\u001b[0m\u001b[1mmodule.dataproc.google_dataproc_cluster.dataproc-cluster: Still destroying... [id=projects/ds-2024l-7042/regions/europe-west1/clusters/ds-cluster, 40s elapsed]\u001b[0m\u001b[0m\n",
            "\u001b[0m\u001b[1mmodule.dataproc.google_dataproc_cluster.dataproc-cluster: Still destroying... [id=projects/ds-2024l-7042/regions/europe-west1/clusters/ds-cluster, 50s elapsed]\u001b[0m\u001b[0m\n",
            "\u001b[0m\u001b[1mmodule.dataproc.google_dataproc_cluster.dataproc-cluster: Still destroying... [id=projects/ds-2024l-7042/regions/europe-west1/clusters/ds-cluster, 1m0s elapsed]\u001b[0m\u001b[0m\n",
            "\u001b[0m\u001b[1mmodule.dataproc.google_dataproc_cluster.dataproc-cluster: Still destroying... [id=projects/ds-2024l-7042/regions/europe-west1/clusters/ds-cluster, 1m10s elapsed]\u001b[0m\u001b[0m\n",
            "\u001b[0m\u001b[1mmodule.dataproc.google_dataproc_cluster.dataproc-cluster: Still destroying... [id=projects/ds-2024l-7042/regions/europe-west1/clusters/ds-cluster, 1m20s elapsed]\u001b[0m\u001b[0m\n",
            "\u001b[0m\u001b[1mmodule.dataproc.google_dataproc_cluster.dataproc-cluster: Still destroying... [id=projects/ds-2024l-7042/regions/europe-west1/clusters/ds-cluster, 1m30s elapsed]\u001b[0m\u001b[0m\n",
            "\u001b[0m\u001b[1mmodule.dataproc.google_dataproc_cluster.dataproc-cluster: Destruction complete after 1m33s\u001b[0m\n",
            "\u001b[0m\u001b[1mmodule.dataproc.google_project_service.dataproc: Destroying... [id=ds-2024l-7042/dataproc.googleapis.com]\u001b[0m\u001b[0m\n",
            "\u001b[0m\u001b[1mmodule.dataproc.google_project_iam_member.dataproc-service-account[\"roles/storage.admin\"]: Destroying... [id=ds-2024l-7042/roles/storage.admin/serviceAccount:ds-service-account@ds-2024l-7042.iam.gserviceaccount.com]\u001b[0m\u001b[0m\n",
            "\u001b[0m\u001b[1mmodule.dataproc.google_project_iam_member.dataproc-service-account[\"roles/dataproc.worker\"]: Destroying... [id=ds-2024l-7042/roles/dataproc.worker/serviceAccount:ds-service-account@ds-2024l-7042.iam.gserviceaccount.com]\u001b[0m\u001b[0m\n",
            "\u001b[0m\u001b[1mmodule.dataproc.google_project_iam_member.dataproc-service-account[\"roles/dataproc.worker\"]: Destruction complete after 7s\u001b[0m\n",
            "\u001b[0m\u001b[1mmodule.dataproc.google_project_iam_member.dataproc-service-account[\"roles/storage.admin\"]: Destruction complete after 7s\u001b[0m\n",
            "\u001b[0m\u001b[1mmodule.dataproc.google_service_account.default: Destroying... [id=projects/ds-2024l-7042/serviceAccounts/ds-service-account@ds-2024l-7042.iam.gserviceaccount.com]\u001b[0m\u001b[0m\n",
            "\u001b[0m\u001b[1mmodule.dataproc.google_service_account.default: Destruction complete after 0s\u001b[0m\n",
            "\u001b[0m\u001b[1mmodule.dataproc.google_project_service.dataproc: Still destroying... [id=ds-2024l-7042/dataproc.googleapis.com, 10s elapsed]\u001b[0m\u001b[0m\n",
            "\u001b[0m\u001b[1mmodule.dataproc.google_project_service.dataproc: Destruction complete after 10s\u001b[0m\n",
            "\u001b[0m\u001b[1mmodule.vpc.module.vpc.module.routes.google_compute_route.route[\"egress-internet\"]: Destroying... [id=projects/ds-2024l-7042/global/routes/egress-internet]\u001b[0m\u001b[0m\n",
            "\u001b[0m\u001b[1mmodule.vpc.google_compute_firewall.default-internal-allow-all: Destroying... [id=projects/ds-2024l-7042/global/firewalls/default-internal-allow-all]\u001b[0m\u001b[0m\n",
            "\u001b[0m\u001b[1mmodule.vpc.module.cloud-router.google_compute_router_nat.nats[\"nat-gateway\"]: Destroying... [id=ds-2024l-7042/europe-west1/nat-router/nat-gateway]\u001b[0m\u001b[0m\n",
            "\u001b[0m\u001b[1mmodule.vpc.google_compute_firewall.fw-allow-ingress-from-iap: Destroying... [id=projects/ds-2024l-7042/global/firewalls/fw-allow-ingress-iap]\u001b[0m\u001b[0m\n",
            "\u001b[0m\u001b[1mmodule.vpc.google_compute_firewall.default-internal-allow-all: Still destroying... [id=projects/ds-2024l-7042/global/firewalls/default-internal-allow-all, 10s elapsed]\u001b[0m\u001b[0m\n",
            "\u001b[0m\u001b[1mmodule.vpc.module.vpc.module.routes.google_compute_route.route[\"egress-internet\"]: Still destroying... [id=projects/ds-2024l-7042/global/routes/egress-internet, 10s elapsed]\u001b[0m\u001b[0m\n",
            "\u001b[0m\u001b[1mmodule.vpc.module.cloud-router.google_compute_router_nat.nats[\"nat-gateway\"]: Still destroying... [id=ds-2024l-7042/europe-west1/nat-router/nat-gateway, 10s elapsed]\u001b[0m\u001b[0m\n",
            "\u001b[0m\u001b[1mmodule.vpc.google_compute_firewall.fw-allow-ingress-from-iap: Still destroying... [id=projects/ds-2024l-7042/global/firewalls/fw-allow-ingress-iap, 10s elapsed]\u001b[0m\u001b[0m\n",
            "\u001b[0m\u001b[1mmodule.vpc.google_compute_firewall.fw-allow-ingress-from-iap: Destruction complete after 11s\u001b[0m\n",
            "\u001b[0m\u001b[1mmodule.vpc.google_compute_firewall.default-internal-allow-all: Destruction complete after 12s\u001b[0m\n",
            "\u001b[0m\u001b[1mmodule.vpc.module.vpc.module.routes.google_compute_route.route[\"egress-internet\"]: Destruction complete after 12s\u001b[0m\n",
            "\u001b[0m\u001b[1mmodule.vpc.module.vpc.module.subnets.google_compute_subnetwork.subnetwork[\"europe-west1/dataproc-01\"]: Destroying... [id=projects/ds-2024l-7042/regions/europe-west1/subnetworks/dataproc-01]\u001b[0m\u001b[0m\n",
            "\u001b[0m\u001b[1mmodule.vpc.module.cloud-router.google_compute_router_nat.nats[\"nat-gateway\"]: Destruction complete after 12s\u001b[0m\n",
            "\u001b[0m\u001b[1mmodule.vpc.module.cloud-router.google_compute_router.router: Destroying... [id=projects/ds-2024l-7042/regions/europe-west1/routers/nat-router]\u001b[0m\u001b[0m\n",
            "\u001b[0m\u001b[1mmodule.vpc.module.vpc.module.subnets.google_compute_subnetwork.subnetwork[\"europe-west1/dataproc-01\"]: Still destroying... [id=projects/ds-2024l-7042/regions/europe-west1/subnetworks/dataproc-01, 10s elapsed]\u001b[0m\u001b[0m\n",
            "\u001b[0m\u001b[1mmodule.vpc.module.cloud-router.google_compute_router.router: Still destroying... [id=projects/ds-2024l-7042/regions/europe-west1/routers/nat-router, 10s elapsed]\u001b[0m\u001b[0m\n",
            "\u001b[0m\u001b[1mmodule.vpc.module.cloud-router.google_compute_router.router: Destruction complete after 11s\u001b[0m\n",
            "\u001b[0m\u001b[1mmodule.vpc.module.vpc.module.subnets.google_compute_subnetwork.subnetwork[\"europe-west1/dataproc-01\"]: Destruction complete after 11s\u001b[0m\n",
            "\u001b[0m\u001b[1mmodule.vpc.module.vpc.module.vpc.google_compute_network.network: Destroying... [id=projects/ds-2024l-7042/global/networks/main-vpc]\u001b[0m\u001b[0m\n",
            "\u001b[0m\u001b[1mmodule.vpc.module.vpc.module.vpc.google_compute_network.network: Still destroying... [id=projects/ds-2024l-7042/global/networks/main-vpc, 11s elapsed]\u001b[0m\u001b[0m\n",
            "\u001b[0m\u001b[1mmodule.vpc.module.vpc.module.vpc.google_compute_network.network: Still destroying... [id=projects/ds-2024l-7042/global/networks/main-vpc, 21s elapsed]\u001b[0m\u001b[0m\n",
            "\u001b[0m\u001b[1mmodule.vpc.module.vpc.module.vpc.google_compute_network.network: Destruction complete after 22s\u001b[0m\n",
            "Releasing state lock. This may take a few moments...\n",
            "\u001b[0m\u001b[1m\u001b[32m\n",
            "Destroy complete! Resources: 12 destroyed.\n",
            "\u001b[0m"
          ]
        },
        {
          "output_type": "execute_result",
          "data": {
            "text/plain": []
          },
          "metadata": {},
          "execution_count": 11
        }
      ],
      "source": [
        "%%shell\n",
        "cd $REPO_NAME/infra\n",
        "terraform destroy -auto-approve"
      ]
    }
  ],
  "metadata": {
    "kernelspec": {
      "display_name": "Python 3",
      "language": "python",
      "name": "python3"
    },
    "language_info": {
      "codemirror_mode": {
        "name": "ipython",
        "version": 2
      },
      "file_extension": ".py",
      "mimetype": "text/x-python",
      "name": "python",
      "nbconvert_exporter": "python",
      "pygments_lexer": "ipython2"
    },
    "colab": {
      "provenance": []
    }
  },
  "nbformat": 4,
  "nbformat_minor": 5
}